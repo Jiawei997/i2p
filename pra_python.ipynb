{
 "cells": [
  {
   "cell_type": "code",
   "execution_count": 3,
   "metadata": {},
   "outputs": [
    {
     "name": "stdout",
     "output_type": "stream",
     "text": [
      "3.14\n"
     ]
    }
   ],
   "source": [
    "#variable assignment\n",
    "pi=3.14\n",
    "print(pi)"
   ]
  },
  {
   "cell_type": "code",
   "execution_count": 11,
   "metadata": {},
   "outputs": [
    {
     "name": "stdout",
     "output_type": "stream",
     "text": [
      "4\n",
      "<class 'int'>\n"
     ]
    }
   ],
   "source": [
    "#str can not be calculated\n",
    "x=2\n",
    "y=z=2\n",
    "\n",
    "print(z+y)\n",
    "print(type(x+y))"
   ]
  },
  {
   "cell_type": "code",
   "execution_count": 9,
   "metadata": {},
   "outputs": [
    {
     "name": "stdout",
     "output_type": "stream",
     "text": [
      "<class 'int'>\n",
      "12\n"
     ]
    }
   ],
   "source": [
    "x=2\n",
    "y=10\n",
    "\n",
    "\n",
    "z=x+y\n",
    "print(type(z))\n",
    "x=z\n",
    "print(x)"
   ]
  },
  {
   "cell_type": "code",
   "execution_count": 13,
   "metadata": {},
   "outputs": [
    {
     "name": "stdout",
     "output_type": "stream",
     "text": [
      "1\n",
      "13\n",
      "False\n",
      "1000\n",
      "7\n",
      "3\n"
     ]
    }
   ],
   "source": [
    "x=3\n",
    "y=10\n",
    "\n",
    "print(y%x)\n",
    "print(y+x)\n",
    "print(y<x)\n",
    "print(y**x)\n",
    "print(y-x)\n",
    "print(y//x)\n",
    "#division int// or float/"
   ]
  },
  {
   "cell_type": "code",
   "execution_count": 22,
   "metadata": {},
   "outputs": [],
   "source": [
    "Pi = 3.14159\n",
    "pi = 3.14159\n",
    "pi3 = 3.14159*3\n",
    "p2 = 3.14159**2\n",
    "pi2 = 3.14159**2\n",
    "myradius = 5\n",
    "My_Radius = 5"
   ]
  },
  {
   "cell_type": "code",
   "execution_count": 2,
   "metadata": {},
   "outputs": [
    {
     "name": "stdout",
     "output_type": "stream",
     "text": [
      "32\n"
     ]
    }
   ],
   "source": [
    "\n",
    "x = 12\n",
    "y = 10\n",
    "\n",
    "z = x + y\n",
    "x = x + y\n",
    "y = z + y\n",
    "print(y)"
   ]
  },
  {
   "cell_type": "code",
   "execution_count": 3,
   "metadata": {},
   "outputs": [
    {
     "name": "stdout",
     "output_type": "stream",
     "text": [
      "2.5\n",
      "2.25\n",
      "2.5\n"
     ]
    }
   ],
   "source": [
    "\n",
    "x = 1 + 2 * 3 / 4\n",
    "y = (1 + 2) * (3 / 4)\n",
    "z = 1 + 2 * (3 / 4)\n",
    "\n",
    "print(x)\n",
    "print(y)\n",
    "print(z)"
   ]
  },
  {
   "cell_type": "code",
   "execution_count": 10,
   "metadata": {},
   "outputs": [
    {
     "name": "stdout",
     "output_type": "stream",
     "text": [
      "3.141592653589793\n",
      "904.7786842338604\n"
     ]
    }
   ],
   "source": [
    "import math\n",
    "\n",
    "# Print the value of pi\n",
    "print (math.pi)\n",
    "\n",
    "d=12\n",
    "v=(d/2)**3*4*math.pi/3\n",
    "\n",
    "print(v)"
   ]
  },
  {
   "cell_type": "code",
   "execution_count": 9,
   "metadata": {},
   "outputs": [
    {
     "name": "stdout",
     "output_type": "stream",
     "text": [
      "3.141592653589793\n",
      "14.99994095641231\n"
     ]
    }
   ],
   "source": [
    "import math\n",
    "\n",
    "# Print the value of pi\n",
    "print (math.pi)\n",
    "\n",
    "v=14137\n",
    "r=((3*v)/(4*math.pi))**(1/3)\n",
    "print(r)"
   ]
  },
  {
   "cell_type": "code",
   "execution_count": 13,
   "metadata": {},
   "outputs": [
    {
     "name": "stdout",
     "output_type": "stream",
     "text": [
      "Hours are less than 10\n"
     ]
    }
   ],
   "source": [
    "hours=0\n",
    "\n",
    "# if hours > 0:\n",
    "#    print(\" \")\n",
    "\n",
    "if hours==10:\n",
    "    print(\"Hours are greater than zero\")\n",
    "elif hours==2:\n",
    "    print(\" Hours are greater than zero and Hours are less than 10\")\n",
    "elif hours==0:\n",
    "    print(\"Hours are less than 10\")"
   ]
  },
  {
   "cell_type": "code",
   "execution_count": 14,
   "metadata": {},
   "outputs": [
    {
     "name": "stdout",
     "output_type": "stream",
     "text": [
      "1\n",
      "2\n",
      "3\n",
      "4\n"
     ]
    }
   ],
   "source": [
    "a = 1\n",
    "b = 1\n",
    "\n",
    "if a==b:\n",
    "    print(\"1\")\n",
    "    print(\"2\")\n",
    "    print(\"3\")\n",
    "    print(\"4\")\n",
    "else:\n",
    "    print(\"after condition\")"
   ]
  },
  {
   "cell_type": "code",
   "execution_count": 20,
   "metadata": {},
   "outputs": [
    {
     "name": "stdout",
     "output_type": "stream",
     "text": [
      "Aled\n"
     ]
    }
   ],
   "source": [
    "x=5\n",
    "\n",
    "if x > 0 and x < 5:\n",
    "    print(\"Joe\")\n",
    "\n",
    "if x > 0 or x < 5:\n",
    "    print(\"Aled\")\n",
    "\n",
    "if not(x > 0):\n",
    "    print(\"Sarah\")\n",
    "    \n",
    "# Answer:Aled;1,2,3,4;NO!"
   ]
  },
  {
   "cell_type": "code",
   "execution_count": 23,
   "metadata": {},
   "outputs": [
    {
     "name": "stdout",
     "output_type": "stream",
     "text": [
      "0\n",
      "x is even!\n",
      "0\n",
      "1\n",
      "x is odd!\n",
      "1\n",
      "2\n",
      "x is even!\n",
      "2\n",
      "3\n",
      "x is odd!\n",
      "3\n",
      "4\n",
      "x is even!\n",
      "4\n",
      "5\n",
      "x is odd!\n",
      "5\n",
      "6\n",
      "x is even!\n",
      "6\n",
      "7\n",
      "x is odd!\n",
      "7\n",
      "8\n",
      "x is even!\n",
      "8\n"
     ]
    }
   ],
   "source": [
    "for x in range(0,9):\n",
    "    print(x)\n",
    "    if x%2==0:\n",
    "        print(\"x is even!\")\n",
    "    else:\n",
    "        print(\"x is odd!\")\n",
    "    print(x)\n",
    "\n",
    "# Where to type the lastest print??"
   ]
  },
  {
   "cell_type": "code",
   "execution_count": 25,
   "metadata": {},
   "outputs": [
    {
     "name": "stdout",
     "output_type": "stream",
     "text": [
      "x is not equal to y\n",
      "x is less than y\n"
     ]
    }
   ],
   "source": [
    "x = 2\n",
    "y = 3\n",
    "if x != y:                                 #line 1\n",
    "    print(\"x is not equal to y\")\n",
    "    \n",
    "    if(x > y):                             #line 4\n",
    "        print(\"x is greater than y\")\n",
    "    \n",
    "    else:                                  #line 7\n",
    "        print(\"x is less than y\")\n",
    "\n",
    "else:\n",
    "    print(\"x is equal to y\")"
   ]
  },
  {
   "cell_type": "code",
   "execution_count": 30,
   "metadata": {},
   "outputs": [
    {
     "name": "stdout",
     "output_type": "stream",
     "text": [
      "London\n",
      "Tokyo\n",
      "['Beijing', 'Tokyo']\n",
      "['London', 'Beijing', 'Tokyo', 'Delhi']\n",
      "['London', 'Beijing']\n",
      "0\n"
     ]
    }
   ],
   "source": [
    "\n",
    "cities = ['New York', 'London', 'Beijing', 'Tokyo', 'Delhi']\n",
    "\n",
    "# Print out London from cities:\n",
    "print(cities[1])\n",
    "\n",
    "# Print out Tokyo using *negative* indexing:\n",
    "print(cities[-2])\n",
    "\n",
    "# Print out Beijing and Tokyo using a list slice\n",
    "print(cities[2:4])\n",
    "\n",
    "# Print out London to Delhi using a slice\n",
    "print(cities[1:]) # You could also do cities[1:4] but this way is neater\n",
    "\n",
    "# Combine positive and negative indexing to print out London, Beijing and Tokyo using a list slice\n",
    "print(cities[-4:-2])\n",
    "\n",
    "# What is combining???\n",
    "\n",
    "# Print out the position of New York in the list by searching for it (i.e. you can't just type 0)\n",
    "print(cities.index('New York'))"
   ]
  },
  {
   "cell_type": "code",
   "execution_count": 31,
   "metadata": {},
   "outputs": [
    {
     "ename": "IndexError",
     "evalue": "list index out of range",
     "output_type": "error",
     "traceback": [
      "\u001b[1;31m---------------------------------------------------------------------------\u001b[0m",
      "\u001b[1;31mIndexError\u001b[0m                                Traceback (most recent call last)",
      "\u001b[1;32m<ipython-input-31-b74bf836bc54>\u001b[0m in \u001b[0;36m<module>\u001b[1;34m\u001b[0m\n\u001b[0;32m      2\u001b[0m \u001b[1;33m\u001b[0m\u001b[0m\n\u001b[0;32m      3\u001b[0m \u001b[1;31m# Cause an 'IndexError: list index out of range' errr\u001b[0m\u001b[1;33m\u001b[0m\u001b[1;33m\u001b[0m\u001b[1;33m\u001b[0m\u001b[0m\n\u001b[1;32m----> 4\u001b[1;33m \u001b[0mprint\u001b[0m\u001b[1;33m(\u001b[0m\u001b[0mcities\u001b[0m\u001b[1;33m[\u001b[0m\u001b[1;36m9\u001b[0m\u001b[1;33m]\u001b[0m\u001b[1;33m)\u001b[0m\u001b[1;33m\u001b[0m\u001b[1;33m\u001b[0m\u001b[0m\n\u001b[0m\u001b[0;32m      5\u001b[0m \u001b[1;33m\u001b[0m\u001b[0m\n\u001b[0;32m      6\u001b[0m \u001b[1;31m# Cause a ValueError using the city of Toronto\u001b[0m\u001b[1;33m\u001b[0m\u001b[1;33m\u001b[0m\u001b[1;33m\u001b[0m\u001b[0m\n",
      "\u001b[1;31mIndexError\u001b[0m: list index out of range"
     ]
    }
   ],
   "source": [
    "cities = ['New York', 'London', 'Beijing', 'Tokyo', 'Delhi']\n",
    "\n",
    "# Cause an 'IndexError: list index out of range' errr\n",
    "print(cities[9])\n",
    "\n",
    "# Cause a ValueError using the city of Toronto\n",
    "\n",
    "print(cities['3'])\n",
    "\n"
   ]
  },
  {
   "cell_type": "code",
   "execution_count": 33,
   "metadata": {},
   "outputs": [
    {
     "name": "stdout",
     "output_type": "stream",
     "text": [
      "['Tokyo', 'New York', 'London', 'Delhi', 'Beijing']\n"
     ]
    }
   ],
   "source": [
    "# Sort the list in place in reverse alphabetical order (i.e. z...a) and then print the sorted list\n",
    "\n",
    "cities = ['New York', 'London', 'Beijing', 'Tokyo', 'Delhi']\n",
    "\n",
    "cities.sort(reverse=True)\n",
    "\n",
    "print(cities)\n"
   ]
  },
  {
   "cell_type": "code",
   "execution_count": 38,
   "metadata": {},
   "outputs": [
    {
     "name": "stdout",
     "output_type": "stream",
     "text": [
      "['Tokyo', 'New York', 'Toronto', 'London', 'Delhi', 'Beijing']\n"
     ]
    }
   ],
   "source": [
    "cities =['Tokyo', 'New York', 'London', 'Delhi', 'Beijing']\n",
    "\n",
    "cities.insert(2,'Toronto') \n",
    "\n",
    "print(cities)\n",
    "\n",
    "# Insert method!! \n",
    "# NOT append!!\n",
    "# Insert(position,item)---!!!"
   ]
  },
  {
   "cell_type": "code",
   "execution_count": 40,
   "metadata": {},
   "outputs": [
    {
     "name": "stdout",
     "output_type": "stream",
     "text": [
      "New York\n",
      "['Tokyo', 'Toronto', 'London', 'Delhi', 'Beijing']\n"
     ]
    }
   ],
   "source": [
    "cities =['Tokyo', 'New York', 'Toronto', 'London', 'Delhi', 'Beijing']\n",
    "p='New York'\n",
    "cities.remove(p)\n",
    "\n",
    "\n",
    "print(p)\n",
    "print(cities)"
   ]
  },
  {
   "cell_type": "code",
   "execution_count": 42,
   "metadata": {},
   "outputs": [
    {
     "name": "stdout",
     "output_type": "stream",
     "text": [
      "False\n",
      "NO!\n"
     ]
    }
   ],
   "source": [
    "cities=['Tokyo', 'Toronto', 'London', 'Delhi', 'Beijing']\n",
    "\n",
    "print('Moscow' in cities)\n",
    "\n",
    "# Another solution.\n",
    "\n",
    "if 'Moscow' in cities:\n",
    "    print('YES!')\n",
    "else:\n",
    "    print('NO!')\n",
    "    "
   ]
  }
 ],
 "metadata": {
  "kernelspec": {
   "display_name": "CASA2020",
   "language": "python",
   "name": "sds2020"
  },
  "language_info": {
   "codemirror_mode": {
    "name": "ipython",
    "version": 3
   },
   "file_extension": ".py",
   "mimetype": "text/x-python",
   "name": "python",
   "nbconvert_exporter": "python",
   "pygments_lexer": "ipython3",
   "version": "3.7.8"
  }
 },
 "nbformat": 4,
 "nbformat_minor": 4
}
