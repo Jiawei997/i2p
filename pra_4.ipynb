{
 "cells": [
  {
   "cell_type": "code",
   "execution_count": null,
   "metadata": {},
   "outputs": [],
   "source": [
    "# this is a lol\n",
    "myData = [\n",
    "    ['id', 'Name', 'Rank', 'Longitude', 'Latitude', 'Population'], \n",
    "    ['1', 'Greater London', '1', '-18162.92767', '6711153.709', '9787426'], \n",
    "    ['2', 'Greater Manchester', '2', '-251761.802', '7073067.458', '2553379'], \n",
    "    ['3', 'West Midlands', '3', '-210635.2396', '6878950.083', '2440986']\n",
    "]\n",
    "\n",
    "# What cities are in the data set?\n",
    "col = myData[0].index('Name')\n",
    "cities = []\n",
    "for i in range(1,len(myData)):\n",
    "    cities.append(myData[i][col])\n",
    "print(\", \".join(cities))"
   ]
  },
  {
   "cell_type": "code",
   "execution_count": 7,
   "metadata": {},
   "outputs": [
    {
     "name": "stdout",
     "output_type": "stream",
     "text": [
      "['1', 'Greater London', '1', '-18162.92767', '6711153.709', '9787426']\n",
      "['2', 'Greater Manchester', '2', '-251761.802', '7073067.458', '2553379']\n",
      "['3', 'West Midlands', '3', '-210635.2396', '6878950.083', '2440986']\n",
      "['Greater London', 'Greater Manchester', 'West Midlands']\n"
     ]
    }
   ],
   "source": [
    "# this is a lol\n",
    "myData = [\n",
    "    ['id', 'Name', 'Rank', 'Longitude', 'Latitude', 'Population'], \n",
    "    ['1', 'Greater London', '1', '-18162.92767', '6711153.709', '9787426'], \n",
    "    ['2', 'Greater Manchester', '2', '-251761.802', '7073067.458', '2553379'], \n",
    "    ['3', 'West Midlands', '3', '-210635.2396', '6878950.083', '2440986']\n",
    "]\n",
    "\n",
    "# What cities are in the data set?\n",
    "col = myData[0].index('Name')\n",
    "cities = []\n",
    "for i in range(1,len(myData)): # !! i is looping through a list of number(1,4)\n",
    "    print(myData[i])\n",
    "    cities.append(myData[i][col])\n",
    "print(cities)"
   ]
  },
  {
   "cell_type": "code",
   "execution_count": 33,
   "metadata": {},
   "outputs": [
    {
     "name": "stdout",
     "output_type": "stream",
     "text": [
      "1\n",
      "['Greater London', 'Greater Manchester', 'West Midlands']\n"
     ]
    }
   ],
   "source": [
    "# this is a lol\n",
    "myData = [\n",
    "    ['id', 'Name', 'Rank', 'Longitude', 'Latitude', 'Population'], \n",
    "    ['1', 'Greater London', '1', '-18162.92767', '6711153.709', '9787426'], \n",
    "    ['2', 'Greater Manchester', '2', '-251761.802', '7073067.458', '2553379'], \n",
    "    ['3', 'West Midlands', '3', '-210635.2396', '6878950.083', '2440986']\n",
    "]\n",
    "\n",
    "# What cities are in the data set?\n",
    "col = myData[0].index('Name')\n",
    "print(col)\n",
    "cities = []\n",
    "for i in myData[1:]:\n",
    "    cities.append(i[col])\n",
    "print(cities)"
   ]
  },
  {
   "cell_type": "code",
   "execution_count": 34,
   "metadata": {},
   "outputs": [
    {
     "name": "stdout",
     "output_type": "stream",
     "text": [
      "Greater London, Greater Manchester, West Midlands\n"
     ]
    }
   ],
   "source": [
    "print(\", \".join(cities))\n",
    "\n",
    "#????????????????\n",
    "\n",
    "#break the list into string and add comma in between\n"
   ]
  },
  {
   "cell_type": "code",
   "execution_count": 40,
   "metadata": {},
   "outputs": [
    {
     "name": "stdout",
     "output_type": "stream",
     "text": [
      "Greater London. Greater Manchester. Birmingham. Edinburgh. Inverness. Lerwick\n"
     ]
    }
   ],
   "source": [
    "#another \n",
    "myData = {\n",
    "    'id'         : [0, 1, 2, 3, 4, 5],\n",
    "    'Name'       : ['Greater London', 'Greater Manchester', 'Birmingham','Edinburgh','Inverness','Lerwick'],\n",
    "    'Rank'       : [1, 2, 3, 4, 5, 6],\n",
    "    'Longitude'  : [-0.128, -2.245, -1.903, -3.189, -4.223, -1.145],\n",
    "    'Latitude'   : [51.507, 53.479, 52.480, 55.953, 57.478, 60.155],\n",
    "    'Population' : [9787426, 2705000, 1141816, 901455, 70000, 6958],\n",
    "}\n",
    "\n",
    "print(\". \".join(myData['Name'])) #break the list into string and add sign in between.\n"
   ]
  },
  {
   "cell_type": "code",
   "execution_count": 17,
   "metadata": {},
   "outputs": [
    {
     "name": "stdout",
     "output_type": "stream",
     "text": [
      "Manchester's population is 2705000\n"
     ]
    }
   ],
   "source": [
    "myData = {\n",
    "    'id'         : [0, 1, 2, 3, 4, 5],\n",
    "    'Name'       : ['Greater London', 'Greater Manchester', 'Birmingham','Edinburgh','Inverness','Lerwick'],\n",
    "    'Rank'       : [1, 2, 3, 4, 5, 6],\n",
    "    'Longitude'  : [-0.128, -2.245, -1.903, -3.189, -4.223, -1.145],\n",
    "    'Latitude'   : [51.507, 53.479, 52.480, 55.953, 57.478, 60.155],\n",
    "    'Population' : [9787426, 2705000, 1141816, 901455, 70000, 6958],\n",
    "}\n",
    "\n",
    "\n",
    "city = 'Greater Manchester'\n",
    "pop = myData['Population'][ myData['Name'].index(city) ] #list.index('something') give out the position number.\n",
    "print(f\"Manchester's population is {pop}\") # Notice how 'f-strings' work!"
   ]
  },
  {
   "cell_type": "code",
   "execution_count": 19,
   "metadata": {},
   "outputs": [
    {
     "name": "stdout",
     "output_type": "stream",
     "text": [
      "The easternmost city is: Greater London\n"
     ]
    }
   ],
   "source": [
    "city = myData['Name'][ myData['Longitude'].index( max(myData['Longitude']) ) ]\n",
    "print(f\"The easternmost city is: {city}\")"
   ]
  },
  {
   "cell_type": "code",
   "execution_count": 21,
   "metadata": {},
   "outputs": [],
   "source": [
    "myData['Longitude'].index( max(myData['Longitude']) ) # The index of the maximum value of the list\n",
    "myData['Name'][0] # The first element in the city list\n",
    "\n",
    "# You can use whitespace to make this more legible\n",
    "myData['Name'][\n",
    "    myData['Longitude'].index( \n",
    "        max(myData['Longitude']) \n",
    "    )\n",
    "]\n",
    "\n",
    "# Or, once you're more comfortable with code:\n",
    "city = myData['Name'][ myData['Longitude'].index( max(myData['Longitude']) ) ]"
   ]
  },
  {
   "cell_type": "code",
   "execution_count": 22,
   "metadata": {},
   "outputs": [
    {
     "name": "stdout",
     "output_type": "stream",
     "text": [
      "The town of Lerwick can be found at 1.145ºW, 60.155ºN\n"
     ]
    }
   ],
   "source": [
    "#abs is absolute function\n",
    "city = \"Lerwick\"\n",
    "print(f\"The town of {city} can be found at \" + \n",
    "      f\"{abs(myData['Longitude'][myData['Name'].index(city)])}ºW, {myData['Latitude'][myData['Name'].index(city)]}ºN\")"
   ]
  },
  {
   "cell_type": "code",
   "execution_count": 23,
   "metadata": {},
   "outputs": [
    {
     "name": "stdout",
     "output_type": "stream",
     "text": [
      "The town of Lerwick can be found at 1.145ºW, 60.155ºN\n"
     ]
    }
   ],
   "source": [
    "city = \"Lerwick\"\n",
    "print(f\"The town of {city} can be found at \" + \n",
    "      f\"{abs(myData['Longitude'][myData['Name'].index(city)])}ºW, \" +\n",
    "      f\"{myData['Latitude'][myData['Name'].index(city)]}ºN\")"
   ]
  },
  {
   "cell_type": "code",
   "execution_count": 24,
   "metadata": {},
   "outputs": [
    {
     "name": "stdout",
     "output_type": "stream",
     "text": [
      "The town of Lerwick can be found at 1.145ºW, 60.155ºN\n"
     ]
    }
   ],
   "source": [
    "#more readable\n",
    "city = \"Lerwick\"\n",
    "lat  = abs(\n",
    "    myData['Longitude'][\n",
    "        myData['Name'].index(city)\n",
    "    ]\n",
    ")\n",
    "lon  = myData['Latitude'][\n",
    "    myData['Name'].index(city)\n",
    "]\n",
    "\n",
    "print(f\"The town of {city} can be found at \" + \n",
    "      f\"{lat}ºW, \" +\n",
    "      f\"{lon}ºN\")"
   ]
  },
  {
   "cell_type": "code",
   "execution_count": 6,
   "metadata": {},
   "outputs": [
    {
     "name": "stdout",
     "output_type": "stream",
     "text": [
      "The mean population is: 2435442.5\n"
     ]
    }
   ],
   "source": [
    "#The Average City Size\n",
    "myData = {\n",
    "    'id'         : [0, 1, 2, 3, 4, 5],\n",
    "    'Name'       : ['Greater London', 'Greater Manchester', 'Birmingham','Edinburgh','Inverness','Lerwick'],\n",
    "    'Rank'       : [1, 2, 3, 4, 5, 6],\n",
    "    'Longitude'  : [-0.128, -2.245, -1.903, -3.189, -4.223, -1.145],\n",
    "    'Latitude'   : [51.507, 53.479, 52.480, 55.953, 57.478, 60.155],\n",
    "    'Population' : [9787426, 2705000, 1141816, 901455, 70000, 6958],\n",
    "}\n",
    "\n",
    "import numpy as np\n",
    "size=myData['Population']\n",
    "mean = np.mean(size)\n",
    "print(f\"The mean population is: {mean}\")"
   ]
  },
  {
   "cell_type": "code",
   "execution_count": 7,
   "metadata": {},
   "outputs": [
    {
     "name": "stdout",
     "output_type": "stream",
     "text": [
      "The mean population is: 2435442.5\n"
     ]
    }
   ],
   "source": [
    "print(f\"The mean population is: {np.mean(myData['Population'])}\")\n",
    "# we can do some calculation in{}."
   ]
  },
  {
   "cell_type": "code",
   "execution_count": 14,
   "metadata": {},
   "outputs": [
    {
     "name": "stdout",
     "output_type": "stream",
     "text": [
      "City distribution has sample mean 2435442.5 and sample standard deviation of 3406947.93.\n"
     ]
    }
   ],
   "source": [
    "#Standardising City Sizes\n",
    "\n",
    "# Use numpy functions to calculate mean and standard deviation\n",
    "mean = np.mean(myData['Population'])\n",
    "std  = np.std(myData['Population'])\n",
    "print(f\"City distribution has sample mean {mean} and sample standard deviation of {std:7.2f}.\") #7???"
   ]
  },
  {
   "cell_type": "code",
   "execution_count": 16,
   "metadata": {},
   "outputs": [
    {
     "name": "stdout",
     "output_type": "stream",
     "text": [
      "[2.1579383252868527, 0.0791199354729932, -0.3797024575689938, -0.45025269939207097, -0.6942995760276591, -0.7128035277711219]\n"
     ]
    }
   ],
   "source": [
    "rs = []\n",
    "for x in myData['Population']:\n",
    "    rs.append((x-mean)/std)\n",
    "print(rs)"
   ]
  },
  {
   "cell_type": "code",
   "execution_count": 38,
   "metadata": {},
   "outputs": [
    {
     "name": "stdout",
     "output_type": "stream",
     "text": [
      "[2.1579383252868527, 0.0791199354729932, -0.3797024575689938, -0.45025269939207097, -0.6942995760276591, -0.7128035277711219]\n"
     ]
    }
   ],
   "source": [
    "myData = {\n",
    "    'id'         : [0, 1, 2, 3, 4, 5],\n",
    "    'Name'       : ['Greater London', 'Greater Manchester', 'Birmingham','Edinburgh','Inverness','Lerwick'],\n",
    "    'Rank'       : [1, 2, 3, 4, 5, 6],\n",
    "    'Longitude'  : [-0.128, -2.245, -1.903, -3.189, -4.223, -1.145],\n",
    "    'Latitude'   : [51.507, 53.479, 52.480, 55.953, 57.478, 60.155],\n",
    "    'Population' : [9787426, 2705000, 1141816, 901455, 70000, 6958],\n",
    "}\n",
    "\n",
    "rs = [(x - mean)/std for x in myData['Population']] # mean and std are variables that have been defined in advance\n",
    "                                                    # for x in myData['Population'] is for substraction.\n",
    "myData['Std. Population'] = rs                      \n",
    "#adding key-value pair into dict\n",
    "print(myData['Std. Population']) #?????????????"
   ]
  },
  {
   "cell_type": "code",
   "execution_count": 39,
   "metadata": {},
   "outputs": [
    {
     "name": "stdout",
     "output_type": "stream",
     "text": [
      "City name: Greater London, Greater Manchester, Birmingham, Edinburgh, Inverness, Lerwick\n",
      "Raw population: 9787426, 2705000, 1141816, 901455, 70000, 6958\n",
      "Standardised population: 2.158, 0.079, -0.380, -0.450, -0.694, -0.713\n"
     ]
    }
   ],
   "source": [
    "print(\"City name: \" + \", \".join( myData['Name'] ))\n",
    "print(\"Raw population: \" + \", \".join( [str(x) for x in myData['Population']] ))\n",
    "print(\"Standardised population: \" + \", \".join( [f\"{x:4.3f}\" for x in myData['Std. Population']] ))"
   ]
  },
  {
   "cell_type": "code",
   "execution_count": 24,
   "metadata": {},
   "outputs": [
    {
     "name": "stdout",
     "output_type": "stream",
     "text": [
      "[9787426, 2705000, 1141816, 901455, 70000, 6958]\n",
      "The fourth most populous city is: Edinburgh\n"
     ]
    }
   ],
   "source": [
    "#print out the 4th most populous city\n",
    "\n",
    "myData = {\n",
    "    'id'         : [0, 1, 2, 3, 4, 5],\n",
    "    'Name'       : ['Greater London', 'Greater Manchester', 'Birmingham','Edinburgh','Inverness','Lerwick'],\n",
    "    'Rank'       : [1, 2, 3, 4, 5, 6],\n",
    "    'Longitude'  : [-0.128, -2.245, -1.903, -3.189, -4.223, -1.145],\n",
    "    'Latitude'   : [51.507, 53.479, 52.480, 55.953, 57.478, 60.155],\n",
    "    'Population' : [9787426, 2705000, 1141816, 901455, 70000, 6958],\n",
    "}\n",
    "\n",
    "pop=myData['Population']\n",
    "pop.sort(reverse=True)\n",
    "print(pop)\n",
    "\n",
    "position=myData['Population'].index(pop[3])\n",
    "city=myData['Name'][position]\n",
    "print(\"The fourth most populous city is: \" + str(city))"
   ]
  },
  {
   "cell_type": "code",
   "execution_count": 26,
   "metadata": {},
   "outputs": [
    {
     "name": "stdout",
     "output_type": "stream",
     "text": [
      "901455\n",
      "3\n",
      "The fourth most populous city is: Edinburgh\n"
     ]
    }
   ],
   "source": [
    "# another way of this\n",
    "# Print out the name of the 4th most populous city-region\n",
    "\n",
    "# Find the fourth largest value\n",
    "fourth = sorted(myData['Population'], reverse=True)[3]\n",
    "print(fourth)\n",
    "\n",
    "# Find the index of the fourth largest value\n",
    "idx = myData['Population'].index(fourth)\n",
    "print(idx)\n",
    "\n",
    "# Find the city associated with that value\n",
    "city = myData['Name'][idx]\n",
    "\n",
    "# And output\n",
    "print(\"The fourth most populous city is: \" + str(city))"
   ]
  },
  {
   "cell_type": "code",
   "execution_count": 29,
   "metadata": {},
   "outputs": [
    {
     "name": "stdout",
     "output_type": "stream",
     "text": [
      "[9787426, 2705000, 1141816, 901455, 98426, 6958]\n",
      "[9787426, 2705000, 1141816, 901455, 98426, 6958]\n"
     ]
    }
   ],
   "source": [
    "myData = {\n",
    "    'id'         : [0, 1, 2, 3, 4, 5],\n",
    "    'Name'       : ['Greater London', 'Greater Manchester', 'Birmingham','Edinburgh','Inverness','Lerwick'],\n",
    "    'Rank'       : [1, 2, 3, 4, 5, 6],\n",
    "    'Longitude'  : [-0.128, -2.245, -1.903, -3.189, -4.223, -1.145],\n",
    "    'Latitude'   : [51.507, 53.479, 52.480, 55.953, 57.478, 60.155],\n",
    "    'Population' : [98426, 2705000, 1141816, 901455, 9787426, 6958],\n",
    "}\n",
    "\n",
    "\n",
    "fourth = sorted(myData['Population'], reverse=True)\n",
    "print(fourth)\n",
    "#you don't want to use <list>.sort() \n",
    "#because that will sort your data in place and break the link between the indexes across the 'columns';\n",
    "pop=myData['Population']\n",
    "pop.sort(reverse=True)\n",
    "print(pop)"
   ]
  },
  {
   "cell_type": "code",
   "execution_count": null,
   "metadata": {},
   "outputs": [],
   "source": [
    "# some improvement\n",
    "myData = {\n",
    "    'id'         : [0, 1, 2, 3, 4, 5],\n",
    "    'Name'       : ['Greater London', 'Greater Manchester', 'Birmingham','Edinburgh','Inverness','Lerwick'],\n",
    "    'Rank'       : [1, 2, 3, 4, 5, 6],\n",
    "    'Longitude'  : [-0.128, -2.245, -1.903, -3.189, -4.223, -1.145],\n",
    "    'Latitude'   : [51.507, 53.479, 52.480, 55.953, 57.478, 60.155],\n",
    "    'Population' : [9787426, 2705000, 1141816, 901455, 70000, 6958],\n",
    "}\n",
    "\n",
    "pop=myData['Population']\n",
    "pop.sort(reverse=True)\n",
    "print(pop)\n",
    "\n",
    "position=myData['Population'].index(pop[3])\n",
    "city=myData['Name'][position]\n",
    "print(\"The fourth most populous city is: \" + str(city))\n"
   ]
  },
  {
   "cell_type": "code",
   "execution_count": 1,
   "metadata": {},
   "outputs": [
    {
     "name": "stdout",
     "output_type": "stream",
     "text": [
      "<class '_csv.reader'>\n",
      "['40373464']\n",
      "urlData has 101 rows and 26 columns.\n",
      "['40373464', 'Modern, Small Double Private Room']\n"
     ]
    }
   ],
   "source": [
    "#Task 1. Creating a Set of Functions\n",
    "\n",
    "#turn it into a list of lists.\n",
    "\n",
    "from urllib.request import urlopen\n",
    "import csv\n",
    "\n",
    "url = \"https://github.com/jreades/i2p/raw/master/data/2020-08-24-sample-listings.csv\"\n",
    "\n",
    "urlData = [] # Somewhere to store the data\n",
    "\n",
    "response = urlopen(url) # Get the data using the urlopen function\n",
    "\n",
    "dataset=response.read().decode('utf-8').splitlines()\n",
    "#print (dataset[1][1])    create a list, within list it is string.\n",
    "\n",
    "csvfile  = csv.reader(dataset) # Pass it over to the reader\n",
    "print(type(csvfile))\n",
    "for row in csvfile:\n",
    "    urlData.append(row)\n",
    "    \n",
    "print(row[:1])\n",
    "print(\"urlData has \" + str(len(urlData)) + \" rows and \" + str(len(urlData[0])) + \" columns.\")\n",
    "print(urlData[-1][:2]) # Check it worked!"
   ]
  },
  {
   "cell_type": "code",
   "execution_count": 65,
   "metadata": {},
   "outputs": [],
   "source": [
    "from urllib.request import urlopen\n",
    "import csv\n",
    "import os\n",
    "\n",
    "url = \"https://github.com/jreades/i2p/raw/master/data/2020-08-24-sample-listings.csv\"\n",
    "out = os.path.join('data','2020-08-24-sample-listings.csv')  # create folder and filename for the output\n",
    "#Join one or more path components intelligently\n",
    "\n",
    "#define a function\n",
    "def get_url(src, dest):\n",
    "    \n",
    "    # Check if dest does *not* exist -- that\n",
    "    # would mean we had to download it!\n",
    "    if not os.path.isfile(dest):\n",
    "        print(f\"{dest} not found!\")\n",
    "    else:\n",
    "        print(f\"Found {dest}!\")\n",
    "\n",
    "#use this function\n",
    "#get_url(url, out)\n",
    "\n",
    "#os.path.isfile(path)\n",
    "#Return True if path is an existing regular file.\n",
    "# This follows symbolic links, so both islink() and isfile() can be true for the same path.\n",
    "\n"
   ]
  },
  {
   "cell_type": "code",
   "execution_count": 66,
   "metadata": {},
   "outputs": [
    {
     "name": "stdout",
     "output_type": "stream",
     "text": [
      "data\\2020-08-24-sample-listings.csv not found!\n"
     ]
    }
   ],
   "source": [
    "#call this function\n",
    "get_url(url, out)\n",
    "\n",
    "#this is just the function, nothing generated.\n"
   ]
  },
  {
   "cell_type": "code",
   "execution_count": 31,
   "metadata": {},
   "outputs": [],
   "source": [
    "from urllib.request import urlopen\n",
    "import csv\n",
    "import os"
   ]
  },
  {
   "cell_type": "code",
   "execution_count": 32,
   "metadata": {},
   "outputs": [
    {
     "name": "stdout",
     "output_type": "stream",
     "text": [
      "Found data\\2020-08-24-sample-listings.csv locally!\n"
     ]
    }
   ],
   "source": [
    "url = \"https://github.com/jreades/i2p/raw/master/data/2020-08-24-sample-listings.csv\"\n",
    "out = os.path.join('data','2020-08-24-sample-listings.csv')\n",
    "def get_url(src, dest):\n",
    "    if not os.path.isfile(dest):\n",
    "        print(f\"{dest} not found, downloading!\")\n",
    "        response = urlopen(src)\n",
    "        filedata = response.read().decode('utf-8')\n",
    "        path = list(os.path.split(dest)[:-1])\n",
    "        if len(path) >= 1 and path[0] != '':\n",
    "            os.makedirs(os.path.join(*path), exist_ok=True)\n",
    "        with open(dest, 'w',encoding='utf-8') as f:   #add encoding='utf-8'\n",
    "            f.write(filedata)                         # in r and w mode\n",
    "        \n",
    "    else:\n",
    "        print(f\"Found {dest} locally!\")\n",
    "    \n",
    "    with open(dest, 'r',encoding='utf-8') as f:       #add encoding='utf-8'\n",
    "        return f.read().splitlines()\n",
    "    \n",
    "\n",
    "      \n",
    "c = get_url(url, out) #save the csvfile in c variable\n"
   ]
  },
  {
   "cell_type": "code",
   "execution_count": null,
   "metadata": {},
   "outputs": [],
   "source": [
    "#print(os.path.join('data','2020-08-24-sample-listings.csv')) #return path\n",
    "\n",
    "#print(os.path.split(out)) #return tuple"
   ]
  },
  {
   "cell_type": "code",
   "execution_count": null,
   "metadata": {},
   "outputs": [],
   "source": [
    "#help(os.path.split) # split pathname,returns tuple\n",
    "#help(os.path.join) #join path together\n",
    "#help(os.makedirs)"
   ]
  },
  {
   "cell_type": "code",
   "execution_count": 33,
   "metadata": {},
   "outputs": [],
   "source": [
    "def to_lol(lst):\n",
    "    \n",
    "    # Rest of code to read file and convert it goes here\n",
    "    csvdata = []\n",
    "\n",
    "    csvfile  = csv.reader(lst)  \n",
    "    for row in csvfile:              \n",
    "        csvdata.append( row )\n",
    "    \n",
    "    # Return list of lists\n",
    "    return csvdata\n",
    "    #this is necessary\n",
    "# Save the CSV-LoL to a new variable\n",
    "clol = to_lol(c) #call the function , c as input\n"
   ]
  },
  {
   "cell_type": "code",
   "execution_count": 35,
   "metadata": {},
   "outputs": [
    {
     "name": "stdout",
     "output_type": "stream",
     "text": [
      "LoL has 101 rows and 26 columns.\n",
      "['id', 'name', 'description', 'host_id', 'host_name', 'host_since']\n",
      "['id', 'name', 'description', 'host_id', 'host_name', 'host_since', 'latitude', 'longitude', 'property_type', 'room_type', 'accommodates', 'bathrooms', 'bedrooms', 'beds', 'price', 'minimum_nights', 'maximum_nights', 'availability_30', 'availability_60', 'availability_90', 'availability_365', 'number_of_reviews', 'first_review', 'last_review', 'review_scores_rating', 'calculated_host_listings_count']\n"
     ]
    }
   ],
   "source": [
    "print(f\"LoL has {len(clol)} rows and {len(clol[0])} columns.\")\n",
    "print(clol[0][0:6])\n",
    "print(clol[0])"
   ]
  },
  {
   "cell_type": "code",
   "execution_count": 34,
   "metadata": {},
   "outputs": [
    {
     "name": "stdout",
     "output_type": "stream",
     "text": [
      "['25339003', '40259218', '20097666', '40868766', '29649371', '6650370', '42405264', '13501585', '36162322', '20631005', '32175015', '38406649', '21315952', '16361918', '39556787', '26542484', '21744434', '4059945', '5345295', '44257873', '15768207', '1683278', '24386203', '39349912', '29726372', '34713135', '424511', '2465026', '4743124', '25134847', '39437321', '35825237', '1474317', '28652501', '6868537', '726669', '20821143', '10408740', '14309812', '27866278', '40885187', '28394803', '8680525', '13433229', '37215315', '39432597', '42843489', '42337868', '25451074', '39817130', '41950973', '42513545', '27026005', '1114488', '32253983', '39911815', '39225196', '18789292', '13289226', '29502574', '20893587', '23523880', '10880757', '44069559', '34556153', '15307633', '12263797', '32347496', '668819', '29896303', '13663264', '40657332', '29230752', '32842985', '1043759', '22987867', '11707553', '20238937', '42106572', '31814561', '12195983', '41276640', '19036976', '19246652', '41665916', '29752790', '38222036', '37427933', '20916454', '29273072', '8948392', '38322409', '24146292', '21996251', '22681593', '33923856', '18734228', '41376268', '34560337', '40373464']\n"
     ]
    }
   ],
   "source": [
    "def to_dol(lol):\n",
    "    \"\"\"\n",
    "    Converts a list-of-lists (LoL) to a dict-of-lists (dol)\n",
    "    using the first element in the LoL to create column names.\n",
    "    \n",
    "    :param lol: a list-of-lists where each element of the list represents a row of data\n",
    "    :returns: a dict-of-lists\n",
    "    \"\"\"\n",
    "    # Create empty dict-of-lists\n",
    "    ds = {}\n",
    "\n",
    "    # I had a version of this code that used\n",
    "    # lol.pop(0) since it made the for loop\n",
    "    # easier to read. But I changed my mind...\n",
    "    #\n",
    "    # Can you think why?\n",
    "    col_names = lol[0]\n",
    "    # Write the code to create the keys and empty lists\n",
    "    for c in col_names:\n",
    "        ds[c]=[]\n",
    "    \n",
    "\n",
    "    # Then values into a list attached to each key\n",
    "    # and write the code to append values to each list\n",
    "    for row in lol[1:]:\n",
    "        for c in range(0,len(col_names)):\n",
    "            ds[col_names[c]].append(row[c])\n",
    "            \n",
    "    return ds\n",
    "\n",
    "ds = to_dol(clol)\n",
    "print(ds['id'])"
   ]
  },
  {
   "cell_type": "code",
   "execution_count": 45,
   "metadata": {},
   "outputs": [
    {
     "name": "stdout",
     "output_type": "stream",
     "text": [
      "dict_keys(['id', 'name', 'description', 'host_id', 'host_name', 'host_since', 'latitude', 'longitude', 'property_type', 'room_type', 'accommodates', 'bathrooms', 'bedrooms', 'beds', 'price', 'minimum_nights', 'maximum_nights', 'availability_30', 'availability_60', 'availability_90', 'availability_365', 'number_of_reviews', 'first_review', 'last_review', 'review_scores_rating', 'calculated_host_listings_count'])\n",
      "id, name, description, host_id, host_name, host_since, latitude, longitude, property_type, room_type, accommodates, bathrooms, bedrooms, beds, price, minimum_nights, maximum_nights, availability_30, availability_60, availability_90, availability_365, number_of_reviews, first_review, last_review, review_scores_rating, calculated_host_listings_count\n",
      "<class 'str'>\n"
     ]
    }
   ],
   "source": [
    "print(ds.keys())\n",
    "print(\", \".join(ds.keys())) #again, break list of key into string and add ,in between\n",
    "print(type(\", \".join(ds.keys())))"
   ]
  },
  {
   "cell_type": "code",
   "execution_count": 21,
   "metadata": {},
   "outputs": [
    {
     "name": "stdout",
     "output_type": "stream",
     "text": [
      "Column (                  id) is type: int and <class 'type'>\n",
      "Column (                name) is type: str and <class 'type'>\n",
      "Column (         description) is type: str and <class 'type'>\n",
      "Column (             host_id) is type: int and <class 'type'>\n",
      "Column (           host_name) is type: str and <class 'type'>\n",
      "Column (          host_since) is type: str and <class 'type'>\n",
      "Column (            latitude) is type: float and <class 'type'>\n",
      "Column (           longitude) is type: float and <class 'type'>\n",
      "Column (       property_type) is type: str and <class 'type'>\n",
      "Column (           room_type) is type: str and <class 'type'>\n",
      "Column (        accommodates) is type: int and <class 'type'>\n",
      "Column (           bathrooms) is type: bool and <class 'type'>\n",
      "Column (            bedrooms) is type: float and <class 'type'>\n",
      "Column (                beds) is type: float and <class 'type'>\n",
      "Column (               price) is type: str and <class 'type'>\n",
      "Column (      minimum_nights) is type: int and <class 'type'>\n",
      "Column (      maximum_nights) is type: int and <class 'type'>\n",
      "Column (     availability_30) is type: int and <class 'type'>\n",
      "Column (     availability_60) is type: int and <class 'type'>\n",
      "Column (     availability_90) is type: int and <class 'type'>\n",
      "Column (    availability_365) is type: int and <class 'type'>\n",
      "Column (   number_of_reviews) is type: int and <class 'type'>\n",
      "Column (        first_review) is type: int and <class 'type'>\n",
      "Column (         last_review) is type: str and <class 'type'>\n",
      "Column (review_scores_rating) is type: str and <class 'type'>\n",
      "Column (calculated_host_listings_count) is type: float and <class 'type'>\n"
     ]
    }
   ],
   "source": [
    "cols  = ['id', 'name', 'description', 'host_id', 'host_name', \n",
    "        'host_since', 'latitude', 'longitude', 'property_type', \n",
    "        'room_type', 'accommodates', 'bathrooms', 'bedrooms', 'beds', \n",
    "        'price', 'minimum_nights', 'maximum_nights', 'availability_30', \n",
    "        'availability_60', 'availability_90', 'availability_365', 'number_of_reviews', \n",
    "        'first_review', 'last_review', 'review_scores_rating', 'calculated_host_listings_count']\n",
    "dtype = [int, str, str, int, str, \n",
    "         str, float, float, str, \n",
    "         str, int, bool, float, float, \n",
    "         str, int, int, int, int, \n",
    "         int, int, int, int,\n",
    "         str, str, float, int]\n",
    "\n",
    "# Note than you cannot save the output of zip directly because\n",
    "# you can only iterate through it once.\n",
    "\n",
    "for d in zip(cols, dtype):\n",
    "    #'''convert to tuple ; d is key-value pair in tuple.'''\n",
    "    print(f\"Column ({d[0]:>20}) is type: {d[1].__name__} and {d[1].__class__}\")\n",
    "\n",
    "    # >20  means right-align with up to 20 characters of whitespace; notice the last line!\n",
    "    # - `d[1].__name__` gives us the name of the data type, rather than a '<class...>' output.\n",
    "   \n"
   ]
  },
  {
   "cell_type": "code",
   "execution_count": 24,
   "metadata": {},
   "outputs": [
    {
     "name": "stdout",
     "output_type": "stream",
     "text": [
      "<class 'int'>\n",
      "<class 'list'>\n"
     ]
    }
   ],
   "source": [
    "lt=[1,2,3,'5']\n",
    "ty=[int,int,]\n",
    "print(test[1].__class__)\n",
    "print(test.__class__)"
   ]
  },
  {
   "cell_type": "code",
   "execution_count": 25,
   "metadata": {},
   "outputs": [
    {
     "name": "stdout",
     "output_type": "stream",
     "text": [
      "Help on built-in function isinstance in module builtins:\n",
      "\n",
      "isinstance(obj, class_or_tuple, /)\n",
      "    Return whether an object is an instance of a class or of a subclass thereof.\n",
      "    \n",
      "    A tuple, as in ``isinstance(x, (A, B, ...))``, may be given as the target to\n",
      "    check against. This is equivalent to ``isinstance(x, A) or isinstance(x, B)\n",
      "    or ...`` etc.\n",
      "\n"
     ]
    }
   ],
   "source": [
    "help(isinstance)"
   ]
  },
  {
   "cell_type": "code",
   "execution_count": 28,
   "metadata": {},
   "outputs": [],
   "source": [
    "# Convert the raw data to data of the appropriate\n",
    "# type: 'column data' (cdata) -> 'column type' (ctype)\n",
    "def to_type(cdata, ctype):\n",
    "    # If a string\n",
    "    if isinstance(cdata, str):\n",
    "        try:\n",
    "            if ctype==bool:\n",
    "                return cdata==True\n",
    "            else:\n",
    "                return ctype(cdata)\n",
    "        except TypeError:\n",
    "            return cdata\n",
    "    \n",
    "    # Not a string (assume list)\n",
    "    else: \n",
    "        fdata = []\n",
    "        for c in cdata:\n",
    "            try:\n",
    "                if ctype==bool:\n",
    "                    fdata.append( c=='True' )\n",
    "                else:\n",
    "                    fdata.append( ctype(c) )\n",
    "            except:\n",
    "                fdata.append( c )\n",
    "        return fdata"
   ]
  },
  {
   "cell_type": "code",
   "execution_count": 35,
   "metadata": {},
   "outputs": [],
   "source": [
    "\n",
    "# Now apply this! We'll copy the data to \n",
    "# new data structure only so that we know\n",
    "# we're not overwriting `ds` until we're sure\n",
    "# that the code works.\n",
    "ds2 = {}\n",
    "for d in zip(cols, dtype):\n",
    "    ds2[ d[0] ] = to_type(ds[d[0]], d[1])"
   ]
  },
  {
   "cell_type": "code",
   "execution_count": 36,
   "metadata": {},
   "outputs": [
    {
     "name": "stdout",
     "output_type": "stream",
     "text": [
      "[25339003, 40259218, 20097666]\n",
      "['Emily', 'Mantas', 'Thanyawan']\n",
      "[9.0, 1.0, 1.0]\n",
      "[23, 365, 0]\n",
      "['2020-03-01', '2020-02-08', '']\n"
     ]
    }
   ],
   "source": [
    "\n",
    "print(ds2['id'][:3])\n",
    "print(ds2['host_name'][:3])\n",
    "print(ds2['beds'][:3])\n",
    "print(ds2['availability_365'][:3])\n",
    "print(ds2['last_review'][:3])"
   ]
  },
  {
   "cell_type": "code",
   "execution_count": 37,
   "metadata": {},
   "outputs": [],
   "source": [
    "import numpy as np # We'll need this"
   ]
  },
  {
   "cell_type": "code",
   "execution_count": 39,
   "metadata": {},
   "outputs": [
    {
     "name": "stdout",
     "output_type": "stream",
     "text": [
      "Average availability over 365 days is 129.15\n",
      "Standard deviation on minimum nights is 10.685855136581255\n",
      "Median maximum nights is 1125.0\n"
     ]
    }
   ],
   "source": [
    "print(f\"Average availability over 365 days is {np.mean(ds2['availability_365'])}\")\n",
    "print(f\"Standard deviation on minimum nights is {np.std(ds2['minimum_nights'])}\")\n",
    "print(f\"Median maximum nights is {np.median(ds2['maximum_nights'])}\")"
   ]
  },
  {
   "cell_type": "code",
   "execution_count": 42,
   "metadata": {},
   "outputs": [
    {
     "ename": "TypeError",
     "evalue": "cannot perform reduce with flexible type",
     "output_type": "error",
     "traceback": [
      "\u001b[1;31m---------------------------------------------------------------------------\u001b[0m",
      "\u001b[1;31mTypeError\u001b[0m                                 Traceback (most recent call last)",
      "\u001b[1;32m<ipython-input-42-9f6aab16aa1d>\u001b[0m in \u001b[0;36m<module>\u001b[1;34m\u001b[0m\n\u001b[1;32m----> 1\u001b[1;33m \u001b[0mprint\u001b[0m\u001b[1;33m(\u001b[0m\u001b[1;34mf\"Median price per night is {np.median(ds2['price'])}\"\u001b[0m\u001b[1;33m)\u001b[0m\u001b[1;33m\u001b[0m\u001b[1;33m\u001b[0m\u001b[0m\n\u001b[0m",
      "\u001b[1;32m<__array_function__ internals>\u001b[0m in \u001b[0;36mmedian\u001b[1;34m(*args, **kwargs)\u001b[0m\n",
      "\u001b[1;32m~\\anaconda3\\envs\\sds2020\\lib\\site-packages\\numpy\\lib\\function_base.py\u001b[0m in \u001b[0;36mmedian\u001b[1;34m(a, axis, out, overwrite_input, keepdims)\u001b[0m\n\u001b[0;32m   3519\u001b[0m     \"\"\"\n\u001b[0;32m   3520\u001b[0m     r, k = _ureduce(a, func=_median, axis=axis, out=out,\n\u001b[1;32m-> 3521\u001b[1;33m                     overwrite_input=overwrite_input)\n\u001b[0m\u001b[0;32m   3522\u001b[0m     \u001b[1;32mif\u001b[0m \u001b[0mkeepdims\u001b[0m\u001b[1;33m:\u001b[0m\u001b[1;33m\u001b[0m\u001b[1;33m\u001b[0m\u001b[0m\n\u001b[0;32m   3523\u001b[0m         \u001b[1;32mreturn\u001b[0m \u001b[0mr\u001b[0m\u001b[1;33m.\u001b[0m\u001b[0mreshape\u001b[0m\u001b[1;33m(\u001b[0m\u001b[0mk\u001b[0m\u001b[1;33m)\u001b[0m\u001b[1;33m\u001b[0m\u001b[1;33m\u001b[0m\u001b[0m\n",
      "\u001b[1;32m~\\anaconda3\\envs\\sds2020\\lib\\site-packages\\numpy\\lib\\function_base.py\u001b[0m in \u001b[0;36m_ureduce\u001b[1;34m(a, func, **kwargs)\u001b[0m\n\u001b[0;32m   3427\u001b[0m         \u001b[0mkeepdim\u001b[0m \u001b[1;33m=\u001b[0m \u001b[1;33m(\u001b[0m\u001b[1;36m1\u001b[0m\u001b[1;33m,\u001b[0m\u001b[1;33m)\u001b[0m \u001b[1;33m*\u001b[0m \u001b[0ma\u001b[0m\u001b[1;33m.\u001b[0m\u001b[0mndim\u001b[0m\u001b[1;33m\u001b[0m\u001b[1;33m\u001b[0m\u001b[0m\n\u001b[0;32m   3428\u001b[0m \u001b[1;33m\u001b[0m\u001b[0m\n\u001b[1;32m-> 3429\u001b[1;33m     \u001b[0mr\u001b[0m \u001b[1;33m=\u001b[0m \u001b[0mfunc\u001b[0m\u001b[1;33m(\u001b[0m\u001b[0ma\u001b[0m\u001b[1;33m,\u001b[0m \u001b[1;33m**\u001b[0m\u001b[0mkwargs\u001b[0m\u001b[1;33m)\u001b[0m\u001b[1;33m\u001b[0m\u001b[1;33m\u001b[0m\u001b[0m\n\u001b[0m\u001b[0;32m   3430\u001b[0m     \u001b[1;32mreturn\u001b[0m \u001b[0mr\u001b[0m\u001b[1;33m,\u001b[0m \u001b[0mkeepdim\u001b[0m\u001b[1;33m\u001b[0m\u001b[1;33m\u001b[0m\u001b[0m\n\u001b[0;32m   3431\u001b[0m \u001b[1;33m\u001b[0m\u001b[0m\n",
      "\u001b[1;32m~\\anaconda3\\envs\\sds2020\\lib\\site-packages\\numpy\\lib\\function_base.py\u001b[0m in \u001b[0;36m_median\u001b[1;34m(a, axis, out, overwrite_input)\u001b[0m\n\u001b[0;32m   3579\u001b[0m         \u001b[1;31m# Use mean in odd and even case to coerce data type\u001b[0m\u001b[1;33m\u001b[0m\u001b[1;33m\u001b[0m\u001b[1;33m\u001b[0m\u001b[0m\n\u001b[0;32m   3580\u001b[0m         \u001b[1;31m# and check, use out array.\u001b[0m\u001b[1;33m\u001b[0m\u001b[1;33m\u001b[0m\u001b[1;33m\u001b[0m\u001b[0m\n\u001b[1;32m-> 3581\u001b[1;33m         \u001b[1;32mreturn\u001b[0m \u001b[0mmean\u001b[0m\u001b[1;33m(\u001b[0m\u001b[0mpart\u001b[0m\u001b[1;33m[\u001b[0m\u001b[0mindexer\u001b[0m\u001b[1;33m]\u001b[0m\u001b[1;33m,\u001b[0m \u001b[0maxis\u001b[0m\u001b[1;33m=\u001b[0m\u001b[0maxis\u001b[0m\u001b[1;33m,\u001b[0m \u001b[0mout\u001b[0m\u001b[1;33m=\u001b[0m\u001b[0mout\u001b[0m\u001b[1;33m)\u001b[0m\u001b[1;33m\u001b[0m\u001b[1;33m\u001b[0m\u001b[0m\n\u001b[0m\u001b[0;32m   3582\u001b[0m \u001b[1;33m\u001b[0m\u001b[0m\n\u001b[0;32m   3583\u001b[0m \u001b[1;33m\u001b[0m\u001b[0m\n",
      "\u001b[1;32m<__array_function__ internals>\u001b[0m in \u001b[0;36mmean\u001b[1;34m(*args, **kwargs)\u001b[0m\n",
      "\u001b[1;32m~\\anaconda3\\envs\\sds2020\\lib\\site-packages\\numpy\\core\\fromnumeric.py\u001b[0m in \u001b[0;36mmean\u001b[1;34m(a, axis, dtype, out, keepdims)\u001b[0m\n\u001b[0;32m   3371\u001b[0m \u001b[1;33m\u001b[0m\u001b[0m\n\u001b[0;32m   3372\u001b[0m     return _methods._mean(a, axis=axis, dtype=dtype,\n\u001b[1;32m-> 3373\u001b[1;33m                           out=out, **kwargs)\n\u001b[0m\u001b[0;32m   3374\u001b[0m \u001b[1;33m\u001b[0m\u001b[0m\n\u001b[0;32m   3375\u001b[0m \u001b[1;33m\u001b[0m\u001b[0m\n",
      "\u001b[1;32m~\\anaconda3\\envs\\sds2020\\lib\\site-packages\\numpy\\core\\_methods.py\u001b[0m in \u001b[0;36m_mean\u001b[1;34m(a, axis, dtype, out, keepdims)\u001b[0m\n\u001b[0;32m    158\u001b[0m             \u001b[0mis_float16_result\u001b[0m \u001b[1;33m=\u001b[0m \u001b[1;32mTrue\u001b[0m\u001b[1;33m\u001b[0m\u001b[1;33m\u001b[0m\u001b[0m\n\u001b[0;32m    159\u001b[0m \u001b[1;33m\u001b[0m\u001b[0m\n\u001b[1;32m--> 160\u001b[1;33m     \u001b[0mret\u001b[0m \u001b[1;33m=\u001b[0m \u001b[0mumr_sum\u001b[0m\u001b[1;33m(\u001b[0m\u001b[0marr\u001b[0m\u001b[1;33m,\u001b[0m \u001b[0maxis\u001b[0m\u001b[1;33m,\u001b[0m \u001b[0mdtype\u001b[0m\u001b[1;33m,\u001b[0m \u001b[0mout\u001b[0m\u001b[1;33m,\u001b[0m \u001b[0mkeepdims\u001b[0m\u001b[1;33m)\u001b[0m\u001b[1;33m\u001b[0m\u001b[1;33m\u001b[0m\u001b[0m\n\u001b[0m\u001b[0;32m    161\u001b[0m     \u001b[1;32mif\u001b[0m \u001b[0misinstance\u001b[0m\u001b[1;33m(\u001b[0m\u001b[0mret\u001b[0m\u001b[1;33m,\u001b[0m \u001b[0mmu\u001b[0m\u001b[1;33m.\u001b[0m\u001b[0mndarray\u001b[0m\u001b[1;33m)\u001b[0m\u001b[1;33m:\u001b[0m\u001b[1;33m\u001b[0m\u001b[1;33m\u001b[0m\u001b[0m\n\u001b[0;32m    162\u001b[0m         ret = um.true_divide(\n",
      "\u001b[1;31mTypeError\u001b[0m: cannot perform reduce with flexible type"
     ]
    }
   ],
   "source": [
    "print(f\"Median price per night is {np.median(ds2['price'])}\")"
   ]
  },
  {
   "cell_type": "code",
   "execution_count": null,
   "metadata": {},
   "outputs": [],
   "source": [
    "#float(ds2['price'][0].replace('$',''))\n",
    "ds2['price'] = to_type([ x.replace('$','') for x in ds2['price']],float)"
   ]
  },
  {
   "cell_type": "code",
   "execution_count": 43,
   "metadata": {},
   "outputs": [
    {
     "data": {
      "text/plain": [
       "226.0"
      ]
     },
     "execution_count": 43,
     "metadata": {},
     "output_type": "execute_result"
    }
   ],
   "source": [
    "float(ds2['price'][0].replace('$',''))"
   ]
  },
  {
   "cell_type": "code",
   "execution_count": 59,
   "metadata": {},
   "outputs": [],
   "source": [
    "!mkdir -p 'dtools'"
   ]
  },
  {
   "cell_type": "code",
   "execution_count": 49,
   "metadata": {},
   "outputs": [
    {
     "name": "stderr",
     "output_type": "stream",
     "text": [
      "[NbConvertApp] Converting notebook pra_4.ipynb to python\n",
      "[NbConvertApp] Writing 16520 bytes to 'dtools'\\__init__.py\n"
     ]
    }
   ],
   "source": [
    "\n",
    "!jupyter nbconvert --ClearOutputPreprocessor.enabled=True \\\n",
    "    --to python --output='dtools'/__init__.py \\\n",
    "    pra_4.ipynb"
   ]
  },
  {
   "cell_type": "code",
   "execution_count": 46,
   "metadata": {},
   "outputs": [],
   "source": [
    "%load_ext autoreload\n",
    "%autoreload 2"
   ]
  },
  {
   "cell_type": "code",
   "execution_count": 58,
   "metadata": {},
   "outputs": [
    {
     "ename": "ModuleNotFoundError",
     "evalue": "No module named 'dtools'",
     "output_type": "error",
     "traceback": [
      "\u001b[1;31m---------------------------------------------------------------------------\u001b[0m",
      "\u001b[1;31mModuleNotFoundError\u001b[0m                       Traceback (most recent call last)",
      "\u001b[1;32m<ipython-input-58-f366dbb07b22>\u001b[0m in \u001b[0;36m<module>\u001b[1;34m\u001b[0m\n\u001b[1;32m----> 1\u001b[1;33m \u001b[1;32mimport\u001b[0m \u001b[0mdtools\u001b[0m\u001b[1;33m\u001b[0m\u001b[1;33m\u001b[0m\u001b[0m\n\u001b[0m\u001b[0;32m      2\u001b[0m \u001b[1;31m#help(to_dol)\u001b[0m\u001b[1;33m\u001b[0m\u001b[1;33m\u001b[0m\u001b[1;33m\u001b[0m\u001b[0m\n",
      "\u001b[1;31mModuleNotFoundError\u001b[0m: No module named 'dtools'"
     ]
    }
   ],
   "source": [
    "import dtools\n",
    "#help(to_dol)"
   ]
  },
  {
   "cell_type": "code",
   "execution_count": null,
   "metadata": {},
   "outputs": [],
   "source": [
    "url = 'https://github.com/jreades/i2p/raw/master/data/src/2019-sample-Crime.csv'\n",
    "out = os.path.join('data','crime-sample.csv')\n",
    "\n",
    "dlol = dtools.get_url(url, out)\n",
    "dlol = dtools.to_lol(dlol)\n",
    "ddol = dtools.to_dol(dlol)\n",
    "\n",
    "print(len(ddol.keys()))\n",
    "print(len(ddol['ID']))"
   ]
  },
  {
   "cell_type": "code",
   "execution_count": null,
   "metadata": {},
   "outputs": [],
   "source": [
    "print(ddol.keys())"
   ]
  }
 ],
 "metadata": {
  "kernelspec": {
   "display_name": "CASA2020",
   "language": "python",
   "name": "sds2020"
  },
  "language_info": {
   "codemirror_mode": {
    "name": "ipython",
    "version": 3
   },
   "file_extension": ".py",
   "mimetype": "text/x-python",
   "name": "python",
   "nbconvert_exporter": "python",
   "pygments_lexer": "ipython3",
   "version": "3.7.8"
  }
 },
 "nbformat": 4,
 "nbformat_minor": 4
}
