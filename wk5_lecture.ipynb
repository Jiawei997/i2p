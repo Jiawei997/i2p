{
 "cells": [
  {
   "cell_type": "code",
   "execution_count": 1,
   "metadata": {},
   "outputs": [
    {
     "name": "stdout",
     "output_type": "stream",
     "text": [
      "100110\n",
      "11\n"
     ]
    }
   ],
   "source": [
    "x=38 \n",
    "y=3\n",
    "print(f\"{x:b}\") # `:b` means byte-format\n",
    "print(f\"{y:b}\")"
   ]
  },
  {
   "cell_type": "code",
   "execution_count": 7,
   "metadata": {},
   "outputs": [
    {
     "name": "stdout",
     "output_type": "stream",
     "text": [
      "10\n",
      "100111\n",
      "100100\n",
      "100110\n"
     ]
    }
   ],
   "source": [
    "print(\"{0:b}\".format( x & y ))\n",
    "\n",
    "print(\"{0:b}\".format( x | y ))\n",
    "\n",
    "print(\"{0:b}\".format( x & ~y ))\n",
    "\n",
    "print(\"{0:b}\".format( x ))\n",
    "\n"
   ]
  },
  {
   "cell_type": "code",
   "execution_count": 8,
   "metadata": {},
   "outputs": [
    {
     "name": "stdout",
     "output_type": "stream",
     "text": [
      "<class 'float'>\n",
      "<class 'NoneType'>\n"
     ]
    }
   ],
   "source": [
    "import numpy as np\n",
    "print(type(np.nan))\n",
    "\n",
    "print(type(None))\n"
   ]
  },
  {
   "cell_type": "code",
   "execution_count": 9,
   "metadata": {},
   "outputs": [
    {
     "name": "stdout",
     "output_type": "stream",
     "text": [
      "False\n",
      "True\n"
     ]
    }
   ],
   "source": [
    "print(np.nan==np.nan)\n",
    "print(np.nan is np.nan) #nan is numeric but has no value"
   ]
  },
  {
   "cell_type": "code",
   "execution_count": 10,
   "metadata": {},
   "outputs": [
    {
     "name": "stdout",
     "output_type": "stream",
     "text": [
      "In the group!\n",
      "Not in the group!\n"
     ]
    }
   ],
   "source": [
    "g = ['Harvey','Rose','Batty','Jefferson']\n",
    "if 'Batty' in g:\n",
    "  print(\"In the group!\")\n",
    "if 'Marx' not in g:\n",
    "  print(\"Not in the group!\")"
   ]
  },
  {
   "cell_type": "code",
   "execution_count": 11,
   "metadata": {},
   "outputs": [
    {
     "name": "stdout",
     "output_type": "stream",
     "text": [
      "False\n",
      "{'banana', 'oranges', 'cherry'}\n",
      "{'tomato'}\n",
      "{'banana', 'carrot', 'celery', 'potato', 'tomato', 'oranges', 'cherry'}\n"
     ]
    }
   ],
   "source": [
    "s1 = {'cherry','oranges','banana','tomato'} # Or s1(...)\n",
    "s2 = {'potato','celery','carrot','tomato'} # Or s2(...)\n",
    "print('potato' in s1) # Same as for lists\n",
    "\n",
    "print(s1.difference(s2))\n",
    "\n",
    "print(s1.intersection(s2))\n",
    "\n",
    "print(s1.union(s2))\n"
   ]
  },
  {
   "cell_type": "code",
   "execution_count": 20,
   "metadata": {},
   "outputs": [
    {
     "data": {
      "text/plain": [
       "5"
      ]
     },
     "execution_count": 20,
     "metadata": {},
     "output_type": "execute_result"
    }
   ],
   "source": [
    "import random\n",
    "random.randint(0,10)"
   ]
  },
  {
   "cell_type": "code",
   "execution_count": 25,
   "metadata": {},
   "outputs": [
    {
     "data": {
      "text/plain": [
       "9"
      ]
     },
     "execution_count": 25,
     "metadata": {},
     "output_type": "execute_result"
    }
   ],
   "source": [
    "random.randrange(0,10)"
   ]
  },
  {
   "cell_type": "code",
   "execution_count": 33,
   "metadata": {},
   "outputs": [
    {
     "data": {
      "text/plain": [
       "'Jefferson'"
      ]
     },
     "execution_count": 33,
     "metadata": {},
     "output_type": "execute_result"
    }
   ],
   "source": [
    "g = ['Harvey','Rose','Batty','Jefferson']\n",
    "\n",
    "random.choice(g)\n"
   ]
  },
  {
   "cell_type": "code",
   "execution_count": 39,
   "metadata": {},
   "outputs": [
    {
     "ename": "TypeError",
     "evalue": "Population must be a sequence or set.  For dicts, use list(d).",
     "output_type": "error",
     "traceback": [
      "\u001b[1;31m---------------------------------------------------------------------------\u001b[0m",
      "\u001b[1;31mTypeError\u001b[0m                                 Traceback (most recent call last)",
      "\u001b[1;32m<ipython-input-39-431d5486b2ec>\u001b[0m in \u001b[0;36m<module>\u001b[1;34m\u001b[0m\n\u001b[0;32m      1\u001b[0m \u001b[0ms2\u001b[0m \u001b[1;33m=\u001b[0m \u001b[1;33m{\u001b[0m\u001b[1;34m'potato'\u001b[0m\u001b[1;33m,\u001b[0m\u001b[1;34m'celery'\u001b[0m\u001b[1;33m,\u001b[0m\u001b[1;34m'carrot'\u001b[0m\u001b[1;33m,\u001b[0m\u001b[1;34m'tomato'\u001b[0m\u001b[1;33m}\u001b[0m\u001b[1;33m\u001b[0m\u001b[1;33m\u001b[0m\u001b[0m\n\u001b[0;32m      2\u001b[0m \u001b[1;33m\u001b[0m\u001b[0m\n\u001b[1;32m----> 3\u001b[1;33m \u001b[0mrandom\u001b[0m\u001b[1;33m.\u001b[0m\u001b[0msample\u001b[0m\u001b[1;33m(\u001b[0m\u001b[1;36m0\u001b[0m\u001b[1;33m,\u001b[0m\u001b[1;36m10\u001b[0m\u001b[1;33m)\u001b[0m\u001b[1;33m\u001b[0m\u001b[1;33m\u001b[0m\u001b[0m\n\u001b[0m",
      "\u001b[1;32m~\\anaconda3\\envs\\sds2020\\lib\\random.py\u001b[0m in \u001b[0;36msample\u001b[1;34m(self, population, k)\u001b[0m\n\u001b[0;32m    315\u001b[0m             \u001b[0mpopulation\u001b[0m \u001b[1;33m=\u001b[0m \u001b[0mtuple\u001b[0m\u001b[1;33m(\u001b[0m\u001b[0mpopulation\u001b[0m\u001b[1;33m)\u001b[0m\u001b[1;33m\u001b[0m\u001b[1;33m\u001b[0m\u001b[0m\n\u001b[0;32m    316\u001b[0m         \u001b[1;32mif\u001b[0m \u001b[1;32mnot\u001b[0m \u001b[0misinstance\u001b[0m\u001b[1;33m(\u001b[0m\u001b[0mpopulation\u001b[0m\u001b[1;33m,\u001b[0m \u001b[0m_Sequence\u001b[0m\u001b[1;33m)\u001b[0m\u001b[1;33m:\u001b[0m\u001b[1;33m\u001b[0m\u001b[1;33m\u001b[0m\u001b[0m\n\u001b[1;32m--> 317\u001b[1;33m             \u001b[1;32mraise\u001b[0m \u001b[0mTypeError\u001b[0m\u001b[1;33m(\u001b[0m\u001b[1;34m\"Population must be a sequence or set.  For dicts, use list(d).\"\u001b[0m\u001b[1;33m)\u001b[0m\u001b[1;33m\u001b[0m\u001b[1;33m\u001b[0m\u001b[0m\n\u001b[0m\u001b[0;32m    318\u001b[0m         \u001b[0mrandbelow\u001b[0m \u001b[1;33m=\u001b[0m \u001b[0mself\u001b[0m\u001b[1;33m.\u001b[0m\u001b[0m_randbelow\u001b[0m\u001b[1;33m\u001b[0m\u001b[1;33m\u001b[0m\u001b[0m\n\u001b[0;32m    319\u001b[0m         \u001b[0mn\u001b[0m \u001b[1;33m=\u001b[0m \u001b[0mlen\u001b[0m\u001b[1;33m(\u001b[0m\u001b[0mpopulation\u001b[0m\u001b[1;33m)\u001b[0m\u001b[1;33m\u001b[0m\u001b[1;33m\u001b[0m\u001b[0m\n",
      "\u001b[1;31mTypeError\u001b[0m: Population must be a sequence or set.  For dicts, use list(d)."
     ]
    }
   ],
   "source": [
    "s2 = {'potato','celery','carrot','tomato'}\n",
    "\n",
    "random.sample(0,10) # input????????"
   ]
  },
  {
   "cell_type": "code",
   "execution_count": 40,
   "metadata": {},
   "outputs": [
    {
     "name": "stdout",
     "output_type": "stream",
     "text": [
      "[9881, 9859, 9957, 10274, 10146, 10000, 9998, 10015, 9863, 10007]\n"
     ]
    }
   ],
   "source": [
    "import random\n",
    "size = 10\n",
    "data = [0] * size\n",
    "\n",
    "tests = 100000\n",
    "while tests > 0:\n",
    "    data[random.randint(0,len(data)-1)] += 1\n",
    "    tests -= 1\n",
    "\n",
    "print(data)"
   ]
  },
  {
   "cell_type": "code",
   "execution_count": 46,
   "metadata": {},
   "outputs": [
    {
     "name": "stdout",
     "output_type": "stream",
     "text": [
      "[9996, 10103, 10098, 9865, 9908, 9873, 10117, 10110, 9859, 10071]\n",
      "None\n"
     ]
    }
   ],
   "source": [
    "#The same seed will yield the same sequence.\n",
    "\n",
    "import random\n",
    "\n",
    "size = 10\n",
    "data = [0] * size\n",
    "\n",
    "tests = 100000\n",
    "while tests > 0:\n",
    "    data[random.randint(0,len(data)-1)] += 1\n",
    "    tests -= 1\n",
    "\n",
    "print(data)\n",
    "\n",
    "print(random.seed(42))\n",
    "\n",
    "import numpy as np\n",
    "np.random.seed(42)"
   ]
  },
  {
   "cell_type": "code",
   "execution_count": 43,
   "metadata": {},
   "outputs": [
    {
     "name": "stdout",
     "output_type": "stream",
     "text": [
      "Repetition 0:\n",
      "\t[10, 1, 0, 4, 3, 3, 2, 1, 10, 8]\n",
      "Repetition 1:\n",
      "\t[10, 1, 0, 4, 3, 3, 2, 1, 10, 8]\n",
      "Repetition 2:\n",
      "\t[10, 1, 0, 4, 3, 3, 2, 1, 10, 8]\n"
     ]
    }
   ],
   "source": [
    "import random\n",
    "random.seed(42)\n",
    "st = random.getstate()\n",
    "for r in range(0,3):\n",
    "    random.setstate(st)\n",
    "    print(f\"Repetition {r}:\")\n",
    "    ints = []\n",
    "    for i in range(0,10):\n",
    "        ints.append(random.randint(0,10))\n",
    "    print(f\"\\t{ints}\")"
   ]
  },
  {
   "cell_type": "code",
   "execution_count": 56,
   "metadata": {},
   "outputs": [
    {
     "name": "stdout",
     "output_type": "stream",
     "text": [
      "The hex equivalent of r1 is: acd601db5552408851070043947683ef\n",
      "The hex equivalent of r2 is: 4458e89e9eb806f1ac60acfdf45d85b6\n"
     ]
    }
   ],
   "source": [
    "import hashlib\n",
    "\n",
    "r1 = hashlib.md5('CASA Intro to Programming'.encode())\n",
    "print(\"The hex equivalent of r1 is: \", end=\"\")\n",
    "print(r1.hexdigest())\n",
    "\n",
    "r2 = hashlib.md5('CASA Intro to Programming '.encode())\n",
    "print(\"The hex equivalent of r2 is: \", end=\"\")\n",
    "print(r2.hexdigest())"
   ]
  },
  {
   "cell_type": "code",
   "execution_count": 54,
   "metadata": {},
   "outputs": [
    {
     "name": "stdout",
     "output_type": "stream",
     "text": [
      "A Midsummer Night's Dream by Shakespeare\n",
      "112127\n",
      "The hex equivalent of r3 is: \n",
      "cce0d35b8b2c4dafcbde3deb983fec0a\n"
     ]
    }
   ],
   "source": [
    "import requests\n",
    "\n",
    "night = requests.get(\"http://www.gutenberg.org/ebooks/1514.txt.utf-8\")\n",
    "print(night.text[30:70])\n",
    "print(len(night.text))\n",
    "r3 = hashlib.md5(night.text.encode())\n",
    "print(\"The hex equivalent of r3 is: \", end=\"\\n\") #end=\"\" like a concatnation \n",
    "print(r3.hexdigest())"
   ]
  },
  {
   "cell_type": "code",
   "execution_count": 57,
   "metadata": {},
   "outputs": [
    {
     "name": "stdout",
     "output_type": "stream",
     "text": [
      "sha1:a2b42e0df09349ca:8790a886358cea7cd013d3e30c95452a58a14800\n"
     ]
    }
   ],
   "source": [
    "import uuid, hashlib\n",
    "salt = uuid.uuid4().hex[:16] # Truncate salt\n",
    "password = 'casa2021'\n",
    "hashed_password = hashlib.sha1(password.encode() + \n",
    "                  salt.encode()).hexdigest()\n",
    "print(':'.join(['sha1',salt,hashed_password]))"
   ]
  },
  {
   "cell_type": "code",
   "execution_count": 76,
   "metadata": {},
   "outputs": [
    {
     "name": "stdout",
     "output_type": "stream",
     "text": [
      "['<!DOCTYPE html>']\n"
     ]
    },
    {
     "name": "stderr",
     "output_type": "stream",
     "text": [
      "b'Skipping line 71: expected 1 fields, saw 2\\nSkipping line 156: expected 1 fields, saw 3\\nSkipping line 168: expected 1 fields, saw 6\\nSkipping line 169: expected 1 fields, saw 3\\nSkipping line 193: expected 1 fields, saw 4\\nSkipping line 197: expected 1 fields, saw 2\\nSkipping line 199: expected 1 fields, saw 2\\nSkipping line 200: expected 1 fields, saw 2\\nSkipping line 201: expected 1 fields, saw 2\\nSkipping line 202: expected 1 fields, saw 2\\nSkipping line 203: expected 1 fields, saw 2\\nSkipping line 204: expected 1 fields, saw 2\\nSkipping line 205: expected 1 fields, saw 2\\nSkipping line 206: expected 1 fields, saw 2\\nSkipping line 207: expected 1 fields, saw 2\\nSkipping line 211: expected 1 fields, saw 2\\nSkipping line 212: expected 1 fields, saw 2\\nSkipping line 218: expected 1 fields, saw 2\\nSkipping line 221: expected 1 fields, saw 2\\nSkipping line 229: expected 1 fields, saw 4\\nSkipping line 235: expected 1 fields, saw 2\\nSkipping line 240: expected 1 fields, saw 2\\nSkipping line 241: expected 1 fields, saw 2\\nSkipping line 242: expected 1 fields, saw 2\\nSkipping line 243: expected 1 fields, saw 2\\nSkipping line 244: expected 1 fields, saw 2\\nSkipping line 249: expected 1 fields, saw 2\\nSkipping line 250: expected 1 fields, saw 2\\nSkipping line 251: expected 1 fields, saw 2\\nSkipping line 252: expected 1 fields, saw 2\\nSkipping line 259: expected 1 fields, saw 2\\nSkipping line 267: expected 1 fields, saw 4\\nSkipping line 272: expected 1 fields, saw 2\\nSkipping line 275: expected 1 fields, saw 2\\nSkipping line 276: expected 1 fields, saw 2\\nSkipping line 280: expected 1 fields, saw 2\\nSkipping line 281: expected 1 fields, saw 2\\nSkipping line 303: expected 1 fields, saw 2\\nSkipping line 441: expected 1 fields, saw 6\\nSkipping line 442: expected 1 fields, saw 3\\nSkipping line 447: expected 1 fields, saw 6\\nSkipping line 448: expected 1 fields, saw 3\\nSkipping line 535: expected 1 fields, saw 6\\nSkipping line 546: expected 1 fields, saw 6\\nSkipping line 558: expected 1 fields, saw 6\\nSkipping line 574: expected 1 fields, saw 3\\nSkipping line 580: expected 1 fields, saw 3\\nSkipping line 586: expected 1 fields, saw 3\\nSkipping line 592: expected 1 fields, saw 3\\nSkipping line 598: expected 1 fields, saw 3\\nSkipping line 604: expected 1 fields, saw 3\\nSkipping line 610: expected 1 fields, saw 3\\nSkipping line 682: expected 1 fields, saw 3\\nSkipping line 687: expected 1 fields, saw 3\\nSkipping line 688: expected 1 fields, saw 8\\nSkipping line 733: expected 1 fields, saw 7\\nSkipping line 781: expected 1 fields, saw 2\\nSkipping line 846: expected 1 fields, saw 2\\nSkipping line 849: expected 1 fields, saw 2\\nSkipping line 998: expected 1 fields, saw 3\\nSkipping line 2258: expected 1 fields, saw 3\\nSkipping line 2331: expected 1 fields, saw 2\\nSkipping line 2332: expected 1 fields, saw 3\\nSkipping line 2333: expected 1 fields, saw 3\\nSkipping line 2335: expected 1 fields, saw 3\\nSkipping line 2337: expected 1 fields, saw 3\\nSkipping line 2338: expected 1 fields, saw 3\\nSkipping line 2339: expected 1 fields, saw 3\\nSkipping line 2340: expected 1 fields, saw 3\\nSkipping line 2341: expected 1 fields, saw 3\\nSkipping line 2342: expected 1 fields, saw 3\\nSkipping line 2343: expected 1 fields, saw 3\\nSkipping line 2344: expected 1 fields, saw 3\\nSkipping line 2345: expected 1 fields, saw 3\\nSkipping line 2414: expected 1 fields, saw 2\\nSkipping line 2421: expected 1 fields, saw 2\\nSkipping line 2433: expected 1 fields, saw 2\\n'\n"
     ]
    }
   ],
   "source": [
    "import pandas as pd \n",
    "import csv\n",
    "from urllib.request import urlopen\n",
    "# import package\n",
    "# Bitly link for: https://github.com/jreades/i2p/blob/master/data/2019-sample-crime.csv\n",
    "url='https://github.com/jreades/i2p/blob/master/data/2019-sample-crime.csv'\n",
    "\n",
    "df = pd.read_csv(url, error_bad_lines=False) # 我真的太笨了！！！！\n",
    "# load a (remote) CSV\n",
    "type(df)                 # not simple data type\n",
    "print(df.columns.values) # column names\n"
   ]
  },
  {
   "cell_type": "code",
   "execution_count": null,
   "metadata": {},
   "outputs": [],
   "source": [
    "df.describe() # Information about each Series\n",
    "df.info()  # Information about each Series and the df\n",
    "\n",
    "print(type(df['Latitude']))          # type for column\n",
    "print(type(df['Latitude'].values))   # type for values\n",
    "print(df['Latitude'].values[:5])     # first five values\n",
    "print(f\"1: {df['Latitude'].mean()}\") # summarise a series/column\n",
    "print(f\"2: {df.Latitude.mean()}\")    # if no spaces in name"
   ]
  },
  {
   "cell_type": "code",
   "execution_count": null,
   "metadata": {},
   "outputs": [],
   "source": [
    "df.head(3)                   # all columns first 3 rows\n",
    "df[['ID','Date','Year']].tail(3) # selected columns, last 3 rows\n",
    "df.sample(frac=0.3)           # a random 30% sample\n",
    "df.sample(3, random_state=42) # set state of random number generator\n",
    "df.sample(3, random_state=42) # will yield same sample"
   ]
  },
  {
   "cell_type": "code",
   "execution_count": null,
   "metadata": {},
   "outputs": [],
   "source": []
  }
 ],
 "metadata": {
  "kernelspec": {
   "display_name": "CASA2020",
   "language": "python",
   "name": "sds2020"
  },
  "language_info": {
   "codemirror_mode": {
    "name": "ipython",
    "version": 3
   },
   "file_extension": ".py",
   "mimetype": "text/x-python",
   "name": "python",
   "nbconvert_exporter": "python",
   "pygments_lexer": "ipython3",
   "version": "3.7.8"
  }
 },
 "nbformat": 4,
 "nbformat_minor": 4
}
