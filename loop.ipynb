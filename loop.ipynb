{
 "cells": [
  {
   "cell_type": "code",
   "execution_count": 16,
   "metadata": {},
   "outputs": [],
   "source": [
    "import os\n",
    "import pandas as pd\n",
    "import geopandas as gpd\n",
    "\n",
    "import numpy as np"
   ]
  },
  {
   "cell_type": "code",
   "execution_count": 17,
   "metadata": {},
   "outputs": [],
   "source": [
    "path = os.path.join('i2p_data','listing') # A default location to save raw data\n",
    "fn=['2015-05-listings.csv','2016-06-listings.csv','2017-03-listings.csv','2018-05-listings.csv','2019-04-listings.csv']"
   ]
  },
  {
   "cell_type": "code",
   "execution_count": 18,
   "metadata": {},
   "outputs": [
    {
     "name": "stdout",
     "output_type": "stream",
     "text": [
      "Data frame is 18,436 x 7\n",
      "Data frame is 42,646 x 7\n",
      "Data frame is 53,904 x 7\n",
      "Data frame is 69,886 x 7\n",
      "Data frame is 79,671 x 7\n"
     ]
    }
   ],
   "source": [
    "cols=['id','host_id','host_since','first_review', 'last_review','latitude', 'longitude']\n",
    "df15 = pd.read_csv(os.path.join(path,fn[0]), low_memory=False, usecols=cols)\n",
    "df16 = pd.read_csv(os.path.join(path,fn[1]), low_memory=False, usecols=cols)\n",
    "df17 = pd.read_csv(os.path.join(path,fn[2]), low_memory=False, usecols=cols)\n",
    "df18 = pd.read_csv(os.path.join(path,fn[3]), low_memory=False, usecols=cols)\n",
    "df19 = pd.read_csv(os.path.join(path,fn[4]), low_memory=False, usecols=cols)\n",
    "print(f\"Data frame is {df15.shape[0]:,} x {df15.shape[1]}\") \n",
    "print(f\"Data frame is {df16.shape[0]:,} x {df16.shape[1]}\") \n",
    "print(f\"Data frame is {df17.shape[0]:,} x {df17.shape[1]}\") \n",
    "print(f\"Data frame is {df18.shape[0]:,} x {df18.shape[1]}\") \n",
    "print(f\"Data frame is {df19.shape[0]:,} x {df19.shape[1]}\") "
   ]
  },
  {
   "cell_type": "code",
   "execution_count": 19,
   "metadata": {},
   "outputs": [],
   "source": [
    "frame=[df15,df16,df17,df18,df19]"
   ]
  },
  {
   "cell_type": "code",
   "execution_count": 20,
   "metadata": {},
   "outputs": [
    {
     "name": "stdout",
     "output_type": "stream",
     "text": [
      "Data frame is 18,436 x 7\n",
      "Data frame is 42,646 x 7\n",
      "Data frame is 53,904 x 7\n",
      "Data frame is 69,886 x 7\n",
      "Data frame is 79,671 x 7\n"
     ]
    }
   ],
   "source": [
    "for i in frame:\n",
    "    i.drop(i[i.id.isna()].index.values, axis=0, inplace=True)\n",
    "    print(f\"Data frame is {i.shape[0]:,} x {i.shape[1]}\") "
   ]
  },
  {
   "cell_type": "code",
   "execution_count": 23,
   "metadata": {},
   "outputs": [
    {
     "data": {
      "text/html": [
       "<div>\n",
       "<style scoped>\n",
       "    .dataframe tbody tr th:only-of-type {\n",
       "        vertical-align: middle;\n",
       "    }\n",
       "\n",
       "    .dataframe tbody tr th {\n",
       "        vertical-align: top;\n",
       "    }\n",
       "\n",
       "    .dataframe thead th {\n",
       "        text-align: right;\n",
       "    }\n",
       "</style>\n",
       "<table border=\"1\" class=\"dataframe\">\n",
       "  <thead>\n",
       "    <tr style=\"text-align: right;\">\n",
       "      <th></th>\n",
       "      <th>id</th>\n",
       "      <th>host_id</th>\n",
       "      <th>host_since</th>\n",
       "      <th>latitude</th>\n",
       "      <th>longitude</th>\n",
       "      <th>first_review</th>\n",
       "      <th>last_review</th>\n",
       "    </tr>\n",
       "  </thead>\n",
       "  <tbody>\n",
       "    <tr>\n",
       "      <th>0</th>\n",
       "      <td>6781198</td>\n",
       "      <td>21869529</td>\n",
       "      <td>2014-09-28</td>\n",
       "      <td>51.398883</td>\n",
       "      <td>-0.278265</td>\n",
       "      <td>2015-07-24</td>\n",
       "      <td>2016-01-09</td>\n",
       "    </tr>\n",
       "    <tr>\n",
       "      <th>1</th>\n",
       "      <td>5290274</td>\n",
       "      <td>27396120</td>\n",
       "      <td>2015-02-08</td>\n",
       "      <td>51.421111</td>\n",
       "      <td>-0.280557</td>\n",
       "      <td>2015-04-06</td>\n",
       "      <td>2015-05-12</td>\n",
       "    </tr>\n",
       "    <tr>\n",
       "      <th>2</th>\n",
       "      <td>4023781</td>\n",
       "      <td>20860377</td>\n",
       "      <td>2014-09-02</td>\n",
       "      <td>51.414036</td>\n",
       "      <td>-0.286075</td>\n",
       "      <td>2014-10-05</td>\n",
       "      <td>2015-12-19</td>\n",
       "    </tr>\n",
       "    <tr>\n",
       "      <th>3</th>\n",
       "      <td>5098744</td>\n",
       "      <td>26345340</td>\n",
       "      <td>2015-01-19</td>\n",
       "      <td>51.413899</td>\n",
       "      <td>-0.306505</td>\n",
       "      <td>2015-02-28</td>\n",
       "      <td>2016-02-18</td>\n",
       "    </tr>\n",
       "    <tr>\n",
       "      <th>4</th>\n",
       "      <td>11093420</td>\n",
       "      <td>52632402</td>\n",
       "      <td>2015-12-29</td>\n",
       "      <td>51.408234</td>\n",
       "      <td>-0.291167</td>\n",
       "      <td>2016-02-09</td>\n",
       "      <td>2016-04-01</td>\n",
       "    </tr>\n",
       "  </tbody>\n",
       "</table>\n",
       "</div>"
      ],
      "text/plain": [
       "         id   host_id  host_since   latitude  longitude first_review  \\\n",
       "0   6781198  21869529  2014-09-28  51.398883  -0.278265   2015-07-24   \n",
       "1   5290274  27396120  2015-02-08  51.421111  -0.280557   2015-04-06   \n",
       "2   4023781  20860377  2014-09-02  51.414036  -0.286075   2014-10-05   \n",
       "3   5098744  26345340  2015-01-19  51.413899  -0.306505   2015-02-28   \n",
       "4  11093420  52632402  2015-12-29  51.408234  -0.291167   2016-02-09   \n",
       "\n",
       "  last_review  \n",
       "0  2016-01-09  \n",
       "1  2015-05-12  \n",
       "2  2015-12-19  \n",
       "3  2016-02-18  \n",
       "4  2016-04-01  "
      ]
     },
     "execution_count": 23,
     "metadata": {},
     "output_type": "execute_result"
    }
   ],
   "source": [
    "df16.head()"
   ]
  },
  {
   "cell_type": "code",
   "execution_count": 24,
   "metadata": {},
   "outputs": [],
   "source": [
    "listing15 = gpd.GeoDataFrame(df15,geometry=gpd.points_from_xy(df15.longitude,df15.latitude,crs='epsg:4326')).to_crs('epsg:27700')\n",
    "listing16 = gpd.GeoDataFrame(df16,geometry=gpd.points_from_xy(df16.longitude,df16.latitude,crs='epsg:4326')).to_crs('epsg:27700')\n",
    "listing17 = gpd.GeoDataFrame(df17,geometry=gpd.points_from_xy(df17.longitude,df17.latitude,crs='epsg:4326')).to_crs('epsg:27700')\n",
    "listing18 = gpd.GeoDataFrame(df18,geometry=gpd.points_from_xy(df18.longitude,df18.latitude,crs='epsg:4326')).to_crs('epsg:27700')\n",
    "listing19 = gpd.GeoDataFrame(df19,geometry=gpd.points_from_xy(df19.longitude,df19.latitude,crs='epsg:4326')).to_crs('epsg:27700')\n",
    "    #gdf=gpd.sjoin(boro, listing, how='inner').drop(columns=['latitude','longitude','index_right'])\n",
    "    #gdf_1 = gdf.groupby('GSS_CODE')['id'].agg(Number_of_Listings_2015='count').reset_index() \n",
    "    "
   ]
  },
  {
   "cell_type": "code",
   "execution_count": 26,
   "metadata": {},
   "outputs": [],
   "source": [
    "boro = gpd.read_file(os.path.join('data','geo','Boroughs.gpkg'), driver='GPKG')"
   ]
  },
  {
   "cell_type": "code",
   "execution_count": 27,
   "metadata": {},
   "outputs": [],
   "source": [
    "listings=[listing15,listing16,listing17,listing18,listing19]"
   ]
  },
  {
   "cell_type": "code",
   "execution_count": 28,
   "metadata": {},
   "outputs": [],
   "source": [
    "gdf15=gpd.sjoin(boro, listing15, how='inner').drop(columns=['latitude','longitude','index_right'])\n",
    "gdf16=gpd.sjoin(boro, listing16, how='inner').drop(columns=['latitude','longitude','index_right'])\n",
    "gdf17=gpd.sjoin(boro, listing17, how='inner').drop(columns=['latitude','longitude','index_right'])\n",
    "gdf18=gpd.sjoin(boro, listing18, how='inner').drop(columns=['latitude','longitude','index_right'])\n",
    "gdf19=gpd.sjoin(boro, listing19, how='inner').drop(columns=['latitude','longitude','index_right'])\n"
   ]
  },
  {
   "cell_type": "code",
   "execution_count": 30,
   "metadata": {},
   "outputs": [],
   "source": [
    "gdf15_1 = gdf15.groupby('GSS_CODE')['id'].agg(Number_of_Listings_2015='count').reset_index() \n",
    "gdf16_1 = gdf16.groupby('GSS_CODE')['id'].agg(Number_of_Listings_2016='count').reset_index() \n",
    "gdf17_1 = gdf17.groupby('GSS_CODE')['id'].agg(Number_of_Listings_2017='count').reset_index() \n",
    "gdf18_1 = gdf18.groupby('GSS_CODE')['id'].agg(Number_of_Listings_2018='count').reset_index() \n",
    "gdf19_1 = gdf19.groupby('GSS_CODE')['id'].agg(Number_of_Listings_2019='count').reset_index() \n"
   ]
  },
  {
   "cell_type": "code",
   "execution_count": 34,
   "metadata": {},
   "outputs": [],
   "source": [
    "df15_1 = pd.DataFrame(gdf15_1)\n",
    "df16_1 = pd.DataFrame(gdf16_1)\n",
    "df17_1 = pd.DataFrame(gdf17_1)\n",
    "df18_1 = pd.DataFrame(gdf18_1)\n",
    "df19_1 = pd.DataFrame(gdf19_1)\n",
    "frame1=[df15_1,df16_1,df17_1,df18_1,df19_1]\n",
    "Airbnb_listing = pd.concat(frame1)"
   ]
  },
  {
   "cell_type": "code",
   "execution_count": 35,
   "metadata": {},
   "outputs": [
    {
     "data": {
      "text/html": [
       "<div>\n",
       "<style scoped>\n",
       "    .dataframe tbody tr th:only-of-type {\n",
       "        vertical-align: middle;\n",
       "    }\n",
       "\n",
       "    .dataframe tbody tr th {\n",
       "        vertical-align: top;\n",
       "    }\n",
       "\n",
       "    .dataframe thead th {\n",
       "        text-align: right;\n",
       "    }\n",
       "</style>\n",
       "<table border=\"1\" class=\"dataframe\">\n",
       "  <thead>\n",
       "    <tr style=\"text-align: right;\">\n",
       "      <th></th>\n",
       "      <th>GSS_CODE</th>\n",
       "      <th>Number_of_Listings_2015</th>\n",
       "      <th>Number_of_Listings_2016</th>\n",
       "      <th>Number_of_Listings_2017</th>\n",
       "      <th>Number_of_Listings_2018</th>\n",
       "      <th>Number_of_Listings_2019</th>\n",
       "    </tr>\n",
       "  </thead>\n",
       "  <tbody>\n",
       "    <tr>\n",
       "      <th>0</th>\n",
       "      <td>E09000001</td>\n",
       "      <td>118.0</td>\n",
       "      <td>NaN</td>\n",
       "      <td>NaN</td>\n",
       "      <td>NaN</td>\n",
       "      <td>NaN</td>\n",
       "    </tr>\n",
       "    <tr>\n",
       "      <th>1</th>\n",
       "      <td>E09000002</td>\n",
       "      <td>7.0</td>\n",
       "      <td>NaN</td>\n",
       "      <td>NaN</td>\n",
       "      <td>NaN</td>\n",
       "      <td>NaN</td>\n",
       "    </tr>\n",
       "    <tr>\n",
       "      <th>2</th>\n",
       "      <td>E09000003</td>\n",
       "      <td>65.0</td>\n",
       "      <td>NaN</td>\n",
       "      <td>NaN</td>\n",
       "      <td>NaN</td>\n",
       "      <td>NaN</td>\n",
       "    </tr>\n",
       "    <tr>\n",
       "      <th>3</th>\n",
       "      <td>E09000004</td>\n",
       "      <td>5.0</td>\n",
       "      <td>NaN</td>\n",
       "      <td>NaN</td>\n",
       "      <td>NaN</td>\n",
       "      <td>NaN</td>\n",
       "    </tr>\n",
       "    <tr>\n",
       "      <th>4</th>\n",
       "      <td>E09000005</td>\n",
       "      <td>146.0</td>\n",
       "      <td>NaN</td>\n",
       "      <td>NaN</td>\n",
       "      <td>NaN</td>\n",
       "      <td>NaN</td>\n",
       "    </tr>\n",
       "    <tr>\n",
       "      <th>...</th>\n",
       "      <td>...</td>\n",
       "      <td>...</td>\n",
       "      <td>...</td>\n",
       "      <td>...</td>\n",
       "      <td>...</td>\n",
       "      <td>...</td>\n",
       "    </tr>\n",
       "    <tr>\n",
       "      <th>28</th>\n",
       "      <td>E09000029</td>\n",
       "      <td>NaN</td>\n",
       "      <td>NaN</td>\n",
       "      <td>NaN</td>\n",
       "      <td>NaN</td>\n",
       "      <td>252.0</td>\n",
       "    </tr>\n",
       "    <tr>\n",
       "      <th>29</th>\n",
       "      <td>E09000030</td>\n",
       "      <td>NaN</td>\n",
       "      <td>NaN</td>\n",
       "      <td>NaN</td>\n",
       "      <td>NaN</td>\n",
       "      <td>7653.0</td>\n",
       "    </tr>\n",
       "    <tr>\n",
       "      <th>30</th>\n",
       "      <td>E09000031</td>\n",
       "      <td>NaN</td>\n",
       "      <td>NaN</td>\n",
       "      <td>NaN</td>\n",
       "      <td>NaN</td>\n",
       "      <td>1292.0</td>\n",
       "    </tr>\n",
       "    <tr>\n",
       "      <th>31</th>\n",
       "      <td>E09000032</td>\n",
       "      <td>NaN</td>\n",
       "      <td>NaN</td>\n",
       "      <td>NaN</td>\n",
       "      <td>NaN</td>\n",
       "      <td>4041.0</td>\n",
       "    </tr>\n",
       "    <tr>\n",
       "      <th>32</th>\n",
       "      <td>E09000033</td>\n",
       "      <td>NaN</td>\n",
       "      <td>NaN</td>\n",
       "      <td>NaN</td>\n",
       "      <td>NaN</td>\n",
       "      <td>8863.0</td>\n",
       "    </tr>\n",
       "  </tbody>\n",
       "</table>\n",
       "<p>163 rows × 6 columns</p>\n",
       "</div>"
      ],
      "text/plain": [
       "     GSS_CODE  Number_of_Listings_2015  Number_of_Listings_2016  \\\n",
       "0   E09000001                    118.0                      NaN   \n",
       "1   E09000002                      7.0                      NaN   \n",
       "2   E09000003                     65.0                      NaN   \n",
       "3   E09000004                      5.0                      NaN   \n",
       "4   E09000005                    146.0                      NaN   \n",
       "..        ...                      ...                      ...   \n",
       "28  E09000029                      NaN                      NaN   \n",
       "29  E09000030                      NaN                      NaN   \n",
       "30  E09000031                      NaN                      NaN   \n",
       "31  E09000032                      NaN                      NaN   \n",
       "32  E09000033                      NaN                      NaN   \n",
       "\n",
       "    Number_of_Listings_2017  Number_of_Listings_2018  Number_of_Listings_2019  \n",
       "0                       NaN                      NaN                      NaN  \n",
       "1                       NaN                      NaN                      NaN  \n",
       "2                       NaN                      NaN                      NaN  \n",
       "3                       NaN                      NaN                      NaN  \n",
       "4                       NaN                      NaN                      NaN  \n",
       "..                      ...                      ...                      ...  \n",
       "28                      NaN                      NaN                    252.0  \n",
       "29                      NaN                      NaN                   7653.0  \n",
       "30                      NaN                      NaN                   1292.0  \n",
       "31                      NaN                      NaN                   4041.0  \n",
       "32                      NaN                      NaN                   8863.0  \n",
       "\n",
       "[163 rows x 6 columns]"
      ]
     },
     "execution_count": 35,
     "metadata": {},
     "output_type": "execute_result"
    }
   ],
   "source": [
    "Airbnb_listing"
   ]
  }
 ],
 "metadata": {
  "kernelspec": {
   "display_name": "CASA2020",
   "language": "python",
   "name": "sds2020"
  },
  "language_info": {
   "codemirror_mode": {
    "name": "ipython",
    "version": 3
   },
   "file_extension": ".py",
   "mimetype": "text/x-python",
   "name": "python",
   "nbconvert_exporter": "python",
   "pygments_lexer": "ipython3",
   "version": "3.7.8"
  }
 },
 "nbformat": 4,
 "nbformat_minor": 4
}
