{
 "cells": [
  {
   "cell_type": "code",
   "execution_count": 1,
   "metadata": {},
   "outputs": [
    {
     "name": "stdout",
     "output_type": "stream",
     "text": [
      "datafile variable is of type: 'str'.\n",
      "\n"
     ]
    }
   ],
   "source": [
    "from urllib.request import urlopen\n",
    "\n",
    "# Given the info you were given above, what do you \n",
    "# think the value of 'url' should be? What\n",
    "# type of variable is it? int or string? \n",
    "url = 'https://github.com/jreades/i2p/raw/master/data/2020-08-24-sample-listings-simple.csv'\n",
    "\n",
    "# Read the URL stream into variable called 'response'\n",
    "# using the function that we imported above\n",
    "response = urlopen(url)\n",
    "\n",
    "# Now read from the stream, decoding so that we get actual text\n",
    "datafile = response.read().decode('utf-8')\n",
    "\n",
    "# You might want to explore what `__class__` and `__name__`\n",
    "# offer, but basically the give us a way of finding out what\n",
    "# is 'behind' more complex variables\n",
    "print(\"datafile variable is of type: '\" + datafile.__class__.__name__ + \"'.\\n\")"
   ]
  },
  {
   "cell_type": "code",
   "execution_count": 3,
   "metadata": {},
   "outputs": [
    {
     "name": "stdout",
     "output_type": "stream",
     "text": [
      "id,name,ho\n"
     ]
    }
   ],
   "source": [
    "print(datafile[:10])\n",
    "#it seems that datafile is str not list."
   ]
  },
  {
   "cell_type": "code",
   "execution_count": 4,
   "metadata": {},
   "outputs": [
    {
     "name": "stdout",
     "output_type": "stream",
     "text": [
      "<class 'str'>\n"
     ]
    }
   ],
   "source": [
    "print(type(datafile))\n",
    "#or do it in another way."
   ]
  },
  {
   "cell_type": "code",
   "execution_count": 41,
   "metadata": {},
   "outputs": [
    {
     "name": "stdout",
     "output_type": "stream",
     "text": [
      "datafile variable is of type: 'list'.\n",
      "\n",
      "['id,name,host_id,host_name,host_since,latitude,longitude,property_type,room_type,accommodates,bathrooms,bedrooms,beds,price,minimum_nights,maximum_nights,availability_365,number_of_reviews,calculated_host_listings_count']\n",
      ",\n"
     ]
    }
   ],
   "source": [
    "#to make the file more readable \n",
    "url = \"https://github.com/jreades/i2p/raw/master/data/2020-08-24-sample-listings-simple.csv\"\n",
    "\n",
    "response = urlopen(url)\n",
    "datafile = response.read().decode('utf-8').splitlines() # we split lines into list!\n",
    "\n",
    "print(\"datafile variable is of type: '\" + datafile.__class__.__name__ + \"'.\\n\")\n",
    "print(datafile[:1])\n",
    "print(datafile[1][8])# within list is string! it's indexable but index the single character!"
   ]
  },
  {
   "cell_type": "code",
   "execution_count": 20,
   "metadata": {},
   "outputs": [
    {
     "name": "stdout",
     "output_type": "stream",
     "text": [
      "['40259218', 'Large Double Room - Maida Vale', '302720259', 'Mantas', '2019-10-16', '51.52594000000001', '-0.18909', 'Private room in apartment', 'Private room', '2', '', '1.0', '1.0', '$41.00', '1', '24', '365', '4', '5']\n",
      "<class 'list'>\n"
     ]
    }
   ],
   "source": [
    "#datafile is list already.\n",
    "#to futher split the lines.\n",
    "test = datafile[2].split(',') #split by comma,to concatenate the single character into an item.\n",
    "print(test)\n",
    "print(type(test))"
   ]
  },
  {
   "cell_type": "code",
   "execution_count": 51,
   "metadata": {},
   "outputs": [],
   "source": [
    "# using package to read csv\n",
    "from urllib.request import urlopen\n",
    "import csv\n",
    "\n",
    "url = \"https://github.com/jreades/i2p/raw/master/data/2020-08-24-sample-listings-simple.csv\"\n",
    "\n",
    "urlData = [] # more easy way,create a list to store the data, which can be indexed through items.\n",
    "\n",
    "response = urlopen(url) # Get the data using the urlopen function\n",
    "csvfile  = csv.reader(response.read().decode('utf-8').splitlines()) # Pass it over to the reader function\n",
    "\n",
    "for row in csvfile:              \n",
    "    urlData.append( row )"
   ]
  },
  {
   "cell_type": "code",
   "execution_count": 54,
   "metadata": {},
   "outputs": [
    {
     "name": "stdout",
     "output_type": "stream",
     "text": [
      "urlData has 101 rows and 19 columns.\n",
      "['40373464', 'Modern, Small Double Private Room', '139052118', 'Leon', '2017-07-07', '51.46497', '-0.17807', 'Private room in apartment', 'Private room', '1', '', '1.0', '1.0', '$38.00', '1', '1125', '0', '4', '6']\n",
      "['id', 'name', 'host_id', 'host_name', 'host_since', 'latitude', 'longitude', 'property_type', 'room_type']\n"
     ]
    }
   ],
   "source": [
    "print(\"urlData has \" + str(len(urlData)) + \" rows and \" + str(len(urlData[0])) + \" columns.\")\n",
    "print(urlData[-1])\n",
    "print(urlData[0][:9]) # Check it worked! Now we can go through each item."
   ]
  },
  {
   "cell_type": "code",
   "execution_count": 24,
   "metadata": {},
   "outputs": [
    {
     "name": "stdout",
     "output_type": "stream",
     "text": [
      "The host of 'name' is host_name\n",
      "The host of 'An Amazing 4Bedroom Home, Central London, Sleeps12' is Emily\n",
      "The host of 'Large Double Room - Maida Vale' is Mantas\n",
      "The host of 'Zone 1 : Spacious single bedroom in Bayswater' is Thanyawan\n",
      "The host of 'Large Smart Room 20 minutes walk to Big Ben' is Nadia\n",
      "The host of 'Large Notting Hill 2BR near Portobello Rd' is Emily & Kirsty\n",
      "The host of 'Quiet flat with private garden in Barons Court' is Emily\n",
      "The host of 'Superhost's Lux 3B Luxury Flat- 397 5-Star Reviews' is Emrah\n",
      "The host of 'Lovely and bright garden flat' is Tommaso\n",
      "The host of 'Covent Garden Private Room with Shared Living Room' is Che\n",
      "The host of 'Double Room with private bathroom' is Pascale\n",
      "The host of 'Warm 1BR garden flat in leafy Hampstead (Veeve)' is Veeve\n",
      "The host of 'Single  in NW2' is Nilgun\n",
      "The host of 'single bedroom near heathrow london free parking' is Mark\n",
      "The host of 'Luxury New Apartment with Spa and Pool' is Emile\n"
     ]
    }
   ],
   "source": [
    "\n",
    "for u in urlData[:15]:                             # For each row in the first 15 items in list\n",
    "    print(\"The host of '\" + u[1] + \"' is \" + u[3]) # Print out the name and host\n"
   ]
  },
  {
   "cell_type": "code",
   "execution_count": 56,
   "metadata": {},
   "outputs": [
    {
     "name": "stdout",
     "output_type": "stream",
     "text": [
      "urlData has 101 rows and 26 columns.\n",
      "The host of 'name' is host_name\n",
      "The host of 'An Amazing 4Bedroom Home, Central London, Sleeps12' is Emily\n",
      "The host of 'Large Double Room - Maida Vale' is Mantas\n",
      "The host of 'Zone 1 : Spacious single bedroom in Bayswater' is Thanyawan\n",
      "The host of 'Large Smart Room 20 minutes walk to Big Ben' is Nadia\n",
      "The host of 'Large Notting Hill 2BR near Portobello Rd' is Emily & Kirsty\n",
      "The host of 'Quiet flat with private garden in Barons Court' is Emily\n",
      "The host of 'Superhost's Lux 3B Luxury Flat- 397 5-Star Reviews' is Emrah\n",
      "The host of 'Lovely and bright garden flat' is Tommaso\n",
      "The host of 'Covent Garden Private Room with Shared Living Room' is Che\n",
      "The host of 'Double Room with private bathroom' is Pascale\n",
      "The host of 'Warm 1BR garden flat in leafy Hampstead (Veeve)' is Veeve\n",
      "The host of 'Single  in NW2' is Nilgun\n",
      "The host of 'single bedroom near heathrow london free parking' is Mark\n",
      "The host of 'Luxury New Apartment with Spa and Pool' is Emile\n"
     ]
    }
   ],
   "source": [
    "from urllib.request import urlopen\n",
    "import csv\n",
    "\n",
    "url = \"https://github.com/jreades/i2p/raw/master/data/2020-08-24-sample-listings.csv\"\n",
    "\n",
    "urlData = [] # empty list to store the data\n",
    "\n",
    "response = urlopen(url)\n",
    "csvfile = csv.reader(response.read().decode('utf-8').splitlines())\n",
    "\n",
    "for row in csvfile:              \n",
    "    urlData.append( row )\n",
    "\n",
    "print(\"urlData has \" + str(len(urlData)) + \" rows and \" + str(len(urlData[0])) + \" columns.\")\n",
    "\n",
    "for u in urlData[:15]:                               # For each row in the list\n",
    "    print(\"The host of '\" + u[1] + \"' is \" + u[4]) # Print out the name and host"
   ]
  },
  {
   "cell_type": "code",
   "execution_count": 64,
   "metadata": {},
   "outputs": [
    {
     "name": "stdout",
     "output_type": "stream",
     "text": [
      "['id,name,host_id,host_name,host_since,latitude,longitude,property_type,room_type,accommodates,bathrooms,bedrooms,beds,price,minimum_nights,maximum_nights,availability_365,number_of_reviews,calculated_host_listings_count']\n",
      "<class 'list'>\n",
      "d\n"
     ]
    }
   ],
   "source": [
    "from urllib.request import urlopen\n",
    "\n",
    "url = 'https://github.com/jreades/i2p/raw/master/data/2020-08-24-sample-listings-simple.csv'\n",
    "\n",
    "response = urlopen(url)\n",
    "\n",
    "datafile = response.read().decode('utf-8').splitlines()\n",
    "csvfile=[]\n",
    "\n",
    "for r in datafile:\n",
    "    csvfile.append(r)\n",
    "print(csvfile[:1])\n",
    "print (type(csvfile))\n",
    "print(csvfile[0][1]) #still characters\n",
    "\n"
   ]
  },
  {
   "cell_type": "code",
   "execution_count": 66,
   "metadata": {},
   "outputs": [
    {
     "name": "stdout",
     "output_type": "stream",
     "text": [
      "[['id', 'name', 'host_id', 'host_name', 'host_since', 'latitude', 'longitude', 'property_type', 'room_type', 'accommodates', 'bathrooms', 'bedrooms', 'beds', 'price', 'minimum_nights', 'maximum_nights', 'availability_365', 'number_of_reviews', 'calculated_host_listings_count']]\n",
      "<class 'list'>\n",
      "name\n"
     ]
    }
   ],
   "source": [
    "from urllib.request import urlopen\n",
    "import csv\n",
    "\n",
    "url = \"https://github.com/jreades/i2p/raw/master/data/2020-08-24-sample-listings-simple.csv\"\n",
    "\n",
    "response = urlopen(url) # Get the data using the urlopen function\n",
    "datafile = response.read().decode('utf-8').splitlines()\n",
    "csvfile  = csv.reader(datafile) # Pass it over to the reader function\n",
    "\n",
    "urlData = [] # more easy way,create a list to store the data, which can be indexed through items.\n",
    "\n",
    "\n",
    "for row in csvfile:              \n",
    "    urlData.append( row )\n",
    "    \n",
    "print(urlData[:1])\n",
    "print (type(urlData))\n",
    "print(urlData[0][1]) # now item\n"
   ]
  },
  {
   "cell_type": "code",
   "execution_count": null,
   "metadata": {},
   "outputs": [],
   "source": [
    "#it's important to use csv.reader!!"
   ]
  },
  {
   "cell_type": "code",
   "execution_count": 69,
   "metadata": {},
   "outputs": [
    {
     "name": "stdout",
     "output_type": "stream",
     "text": [
      "{'id': '40373464', 'name': 'Modern, Small Double Private Room', 'host_id': '139052118', 'host_name': 'Leon', 'host_since': '2017-07-07', 'latitude': '51.46497', 'longitude': '-0.17807', 'property_type': 'Private room in apartment', 'room_type': 'Private room', 'accommodates': '1', 'bathrooms': '', 'bedrooms': '1.0', 'beds': '1.0', 'price': '$38.00', 'minimum_nights': '1', 'maximum_nights': '1125', 'availability_365': '0', 'number_of_reviews': '4', 'calculated_host_listings_count': '6'}\n"
     ]
    }
   ],
   "source": [
    "from urllib.request import urlopen\n",
    "import csv\n",
    "\n",
    "url = \"https://github.com/jreades/i2p/raw/master/data/2020-08-24-sample-listings-simple.csv\"\n",
    "\n",
    "response = urlopen(url) # Get the data using the urlopen function\n",
    "datafile = response.read().decode('utf-8').splitlines()\n",
    "csvfile  = csv.reader(datafile) # Pass it over to the reader function\n",
    "\n",
    "urlData = [] # more easy way,create a list to store the data, which can be indexed through items.\n",
    "\n",
    "for row in csvfile:              \n",
    "    urlData.append( row )\n",
    "\n",
    "# transform to dol\n",
    "urlData[0] #turn to key\n",
    "urlData[1:] #value\n",
    "for l in urlData[1:]:\n",
    "    urldict=dict(zip(urlData[0],l))\n",
    "print(urldict) #doesn't work! only pair one key to one value."
   ]
  },
  {
   "cell_type": "code",
   "execution_count": 102,
   "metadata": {},
   "outputs": [
    {
     "name": "stdout",
     "output_type": "stream",
     "text": [
      "['id', 'name', 'host_id', 'host_name', 'host_since', 'latitude', 'longitude', 'property_type', 'room_type', 'accommodates', 'bathrooms', 'bedrooms', 'beds', 'price', 'minimum_nights', 'maximum_nights', 'availability_365', 'number_of_reviews', 'calculated_host_listings_count']\n",
      "name\n"
     ]
    }
   ],
   "source": [
    "from urllib.request import urlopen\n",
    "import csv\n",
    "\n",
    "url = \"https://github.com/jreades/i2p/raw/master/data/2020-08-24-sample-listings-simple.csv\"\n",
    "\n",
    "response = urlopen(url) # Get the data using the urlopen function\n",
    "datafile = response.read().decode('utf-8').splitlines()\n",
    "csvfile  = csv.reader(datafile) # Pass it over to the reader function\n",
    "\n",
    "urlData = [] # more easy way,create a list to store the data, which can be indexed through items.\n",
    "\n",
    "for row in csvfile:              \n",
    "    urlData.append( row )\n",
    "print(urlData[0])    \n",
    "print(urlData[0][1])"
   ]
  },
  {
   "cell_type": "code",
   "execution_count": 106,
   "metadata": {},
   "outputs": [
    {
     "name": "stdout",
     "output_type": "stream",
     "text": [
      "{'id': '40373464', 'name': 'Modern, Small Double Private Room', 'host_id': '139052118', 'host_name': 'Leon', 'host_since': '2017-07-07', 'latitude': '51.46497', 'longitude': '-0.17807', 'property_type': 'Private room in apartment', 'room_type': 'Private room', 'accommodates': '1', 'bathrooms': '', 'bedrooms': '1.0', 'beds': '1.0', 'price': '$38.00', 'minimum_nights': '1', 'maximum_nights': '1125', 'availability_365': '0', 'number_of_reviews': '4', 'calculated_host_listings_count': '6'}\n"
     ]
    }
   ],
   "source": [
    "from urllib.request import urlopen\n",
    "import csv\n",
    "url = \"https://github.com/jreades/i2p/raw/master/data/2020-08-24-sample-listings-simple.csv\"\n",
    "response = urlopen(url) # Get the data using the urlopen function\n",
    "datafile = response.read().decode('utf-8').splitlines()\n",
    "csvfile  = csv.reader(datafile) # Pass it over to the reader function\n",
    "urlData = [] # more easy way,create a list to store the data, which can be indexed through items.\n",
    "\n",
    "for row in csvfile:              \n",
    "    urlData.append( row )\n",
    "\n",
    "urldict={} #empty dict\n",
    "\n",
    "k=urlData[0]\n",
    "i=1\n",
    "for l in urlData:\n",
    "    v=l\n",
    "    urldict=dict(zip(k,v))\n",
    "print(urldict)   "
   ]
  }
 ],
 "metadata": {
  "kernelspec": {
   "display_name": "CASA2020",
   "language": "python",
   "name": "sds2020"
  },
  "language_info": {
   "codemirror_mode": {
    "name": "ipython",
    "version": 3
   },
   "file_extension": ".py",
   "mimetype": "text/x-python",
   "name": "python",
   "nbconvert_exporter": "python",
   "pygments_lexer": "ipython3",
   "version": "3.7.8"
  }
 },
 "nbformat": 4,
 "nbformat_minor": 4
}
