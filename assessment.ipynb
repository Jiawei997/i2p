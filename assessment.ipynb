{
 "cells": [
  {
   "cell_type": "code",
   "execution_count": 2,
   "metadata": {},
   "outputs": [
    {
     "name": "stdout",
     "output_type": "stream",
     "text": [
      "urlData has 101 rows and 19 columns.\n",
      "['40373464', 'Modern, Small Double Private Room', '139052118', 'Leon', '2017-07-07', '51.46497', '-0.17807', 'Private room in apartment', 'Private room', '1', '', '1.0', '1.0', '$38.00', '1', '1125', '0', '4', '6']\n"
     ]
    }
   ],
   "source": [
    "import numpy\n",
    "from urllib.request import urlopen\n",
    "import csv\n",
    "\n",
    "url = \"https://github.com/jreades/i2p/raw/master/data/2020-08-24-sample-listings-simple.csv\"\n",
    "\n",
    "urlData = [] # Somewhere to store the data\n",
    "\n",
    "response = urlopen(url) # Get the data using the urlopen function\n",
    "csvfile  = csv.reader(response.read().decode('utf-8').splitlines()) # Pass it over to the reader function\n",
    "\n",
    "for row in csvfile:              \n",
    "    urlData.append( row )\n",
    "\n",
    "print(\"urlData has \" + str(len(urlData)) + \" rows and \" + str(len(urlData[0])) + \" columns.\")\n",
    "print(urlData[-1]) # Check it worked!"
   ]
  },
  {
   "cell_type": "code",
   "execution_count": 3,
   "metadata": {},
   "outputs": [
    {
     "name": "stdout",
     "output_type": "stream",
     "text": [
      "['London', 'New York', 'Rome', 'Tokyo']\n"
     ]
    }
   ],
   "source": [
    "myList = ['New York', 'London', 'Tokyo', 'Rome']\n",
    "myList.sort()\n",
    "print(myList)\n"
   ]
  },
  {
   "cell_type": "code",
   "execution_count": 4,
   "metadata": {},
   "outputs": [
    {
     "name": "stdout",
     "output_type": "stream",
     "text": [
      "Rome\n"
     ]
    }
   ],
   "source": [
    "myList.reverse()\n",
    "print(myList[1])"
   ]
  },
  {
   "cell_type": "code",
   "execution_count": 60,
   "metadata": {},
   "outputs": [
    {
     "name": "stdout",
     "output_type": "stream",
     "text": [
      "x is less than 6\n"
     ]
    }
   ],
   "source": [
    "x = 5\n",
    "if x > 6:\n",
    "    print(\"x is greater than 6\")\n",
    "elif x < 6:\n",
    "    print(\"x is less than 6\") \n",
    "else:\n",
    "    print(\"x equals 6\")\n",
    "#if x were changed to 5 it would print “x is less than 6”)"
   ]
  },
  {
   "cell_type": "code",
   "execution_count": null,
   "metadata": {},
   "outputs": [],
   "source": [
    "wotsit = 0.0\n",
    "cheese_doodles = len(myList)\n",
    "for thing in myList :\n",
    "    wotsit += thing\n",
    "print(wotsit/cheese_doodles)"
   ]
  },
  {
   "cell_type": "code",
   "execution_count": 11,
   "metadata": {},
   "outputs": [
    {
     "name": "stdout",
     "output_type": "stream",
     "text": [
      "1 1.0\n",
      "4 5.0\n",
      "10 15.0\n",
      "3 18.0\n",
      "1 19.0\n",
      "3 22.0\n",
      "3.6666666666666665\n"
     ]
    }
   ],
   "source": [
    "myList=[1,4,10,3,1,3]\n",
    "w = 0.0\n",
    "c = len(myList)\n",
    "for t in myList :\n",
    "    w += t\n",
    "    print(t,w)\n",
    "print(w/c)"
   ]
  },
  {
   "cell_type": "code",
   "execution_count": 13,
   "metadata": {},
   "outputs": [
    {
     "name": "stdout",
     "output_type": "stream",
     "text": [
      "3.6666666666666665\n"
     ]
    }
   ],
   "source": [
    "c=(1+4+10+3+1+3)/6\n",
    "print(c)"
   ]
  },
  {
   "cell_type": "code",
   "execution_count": 28,
   "metadata": {},
   "outputs": [],
   "source": [
    "x = 6\n",
    "if x!=6: \n",
    "      print(\"Hello world!\")"
   ]
  },
  {
   "cell_type": "code",
   "execution_count": 30,
   "metadata": {},
   "outputs": [
    {
     "ename": "SyntaxError",
     "evalue": "invalid syntax (<ipython-input-30-a38a370c47b2>, line 2)",
     "output_type": "error",
     "traceback": [
      "\u001b[1;36m  File \u001b[1;32m\"<ipython-input-30-a38a370c47b2>\"\u001b[1;36m, line \u001b[1;32m2\u001b[0m\n\u001b[1;33m    if x=6:\u001b[0m\n\u001b[1;37m        ^\u001b[0m\n\u001b[1;31mSyntaxError\u001b[0m\u001b[1;31m:\u001b[0m invalid syntax\n"
     ]
    }
   ],
   "source": [
    "x = 6\n",
    "if x=6: \n",
    "      print(\"Hello world!\")"
   ]
  },
  {
   "cell_type": "code",
   "execution_count": 40,
   "metadata": {},
   "outputs": [
    {
     "name": "stdout",
     "output_type": "stream",
     "text": [
      "1.0466666666666666\n"
     ]
    }
   ],
   "source": [
    "pi=3.14\n",
    "h=1\n",
    "r=1\n",
    "V = (1/3 * h) * (pi * r**2)\n",
    "print(V)"
   ]
  },
  {
   "cell_type": "code",
   "execution_count": 39,
   "metadata": {},
   "outputs": [
    {
     "name": "stdout",
     "output_type": "stream",
     "text": [
      "1.0466666666666666\n"
     ]
    }
   ],
   "source": [
    "pi=3.14\n",
    "h=1\n",
    "r=1\n",
    "V =1/3*pi*r**2*h\n",
    "print(V)"
   ]
  },
  {
   "cell_type": "code",
   "execution_count": 49,
   "metadata": {},
   "outputs": [
    {
     "name": "stdout",
     "output_type": "stream",
     "text": [
      "The capital of France is Paris\n"
     ]
    }
   ],
   "source": [
    "def theCapital (country='France'):\n",
    "    if country == 'UK':\n",
    "        return 'London'\n",
    "    elif country == 'USA':\n",
    "        return 'Washington DC'\n",
    "    elif country == 'France':\n",
    "        return 'Paris'\n",
    "    else:\n",
    "        return 'Unknown City'\n",
    "\n",
    "print(\"The capital of France is \" + theCapital())\n",
    "\n",
    "#\"The capital of France is Paris\""
   ]
  },
  {
   "cell_type": "code",
   "execution_count": 62,
   "metadata": {},
   "outputs": [
    {
     "name": "stdout",
     "output_type": "stream",
     "text": [
      "The capital of France is Paris\n"
     ]
    }
   ],
   "source": [
    "def theCapital( country:str='France' ) -> str:\n",
    "    if country == 'UK':\n",
    "        return 'London'\n",
    "    elif country == 'USA':\n",
    "        return 'Washington DC'\n",
    "    elif country == 'France':\n",
    "        return 'Paris'\n",
    "    else:\n",
    "        return 'Unknown City'\n",
    "\n",
    "print(\"The capital of France is \" + theCapital())\n",
    "\n",
    "#\"The capital of France is Paris\""
   ]
  },
  {
   "cell_type": "code",
   "execution_count": 58,
   "metadata": {},
   "outputs": [
    {
     "name": "stdout",
     "output_type": "stream",
     "text": [
      "[5, 7]\n",
      "['bear', 6]\n"
     ]
    }
   ],
   "source": [
    "list1=[1, 5, 7, 'dog', 'cat']\n",
    "list2=[ 2, 'bear', 6, 'monkey']\n",
    "\n",
    "print(list1[1:-2])\n",
    "print(list2[1:-1])\n",
    "\n",
    "\n",
    "#[5, 7, 'dog'] from List 1, and ['bear', 6] from List 2"
   ]
  }
 ],
 "metadata": {
  "kernelspec": {
   "display_name": "CASA2020",
   "language": "python",
   "name": "sds2020"
  },
  "language_info": {
   "codemirror_mode": {
    "name": "ipython",
    "version": 3
   },
   "file_extension": ".py",
   "mimetype": "text/x-python",
   "name": "python",
   "nbconvert_exporter": "python",
   "pygments_lexer": "ipython3",
   "version": "3.7.8"
  }
 },
 "nbformat": 4,
 "nbformat_minor": 4
}
