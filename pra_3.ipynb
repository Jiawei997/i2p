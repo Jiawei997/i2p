{
 "cells": [
  {
   "cell_type": "code",
   "execution_count": 6,
   "metadata": {},
   "outputs": [
    {
     "name": "stdout",
     "output_type": "stream",
     "text": [
      "The position of Manchester in the list is: 2\n",
      "Belfast\n",
      "Belfast\n"
     ]
    }
   ],
   "source": [
    "cities = [\"Bristol\", \"London\", \"Manchester\", \"Edinburgh\", \"Belfast\", \"York\"]\n",
    "\n",
    "print(\"The position of Manchester in the list is: \" + str(cities.index(\"Manchester\") ))\n",
    "\n",
    "print(cities[2 + 2])\n",
    "\n",
    "print(cities[-2])\n",
    "\n"
   ]
  },
  {
   "cell_type": "code",
   "execution_count": 11,
   "metadata": {},
   "outputs": [
    {
     "name": "stdout",
     "output_type": "stream",
     "text": [
      "{'Bristol': 15.6, 'London': 16.5, 'Manchester': 13.4, 'Edinburgh': 14.0, 'Belfast': 15.2, 'York': 14.8}\n",
      "The average temperature in ['Manchester'] is 13.4 degrees.\n"
     ]
    }
   ],
   "source": [
    "temperatures = [15.6, 16.5, 13.4, 14.0, 15.2, 14.8] #value\n",
    "\n",
    "# output \"The average temperature in Manchester is 13.4 degrees.\"\n",
    "\n",
    "cities = [\"Bristol\", \"London\", \"Manchester\", \"Edinburgh\", \"Belfast\", \"York\"] #key\n",
    "\n",
    "city_temp=dict(zip(cities,temperatures))\n",
    "print(city_temp)\n",
    "\n",
    "print(\"The average temperature in\" + \" \"+str(cities[2:3])+\" \"\"is\" + \" \"+str(city_temp[cities[2]])+ \" \" +\"degrees.\")"
   ]
  },
  {
   "cell_type": "code",
   "execution_count": 12,
   "metadata": {},
   "outputs": [
    {
     "name": "stdout",
     "output_type": "stream",
     "text": [
      "2\n",
      "The average temperature in Manchester is 13.4\n"
     ]
    }
   ],
   "source": [
    "cities = [\"Bristol\", \"London\", \"Manchester\", \"Edinburgh\", \"Belfast\", \"York\"] \n",
    "\n",
    "temperatures = [15.6, 16.5, 13.4, 14.0, 15.2, 14.8]\n",
    "\n",
    "city=\"Manchester\" # Use this to get the solution...\n",
    "\n",
    "position=cities.index(city)\n",
    "print(position)\n",
    "print(\"The average temperature in \" + city + \" is \" +str(temperatures[position]))"
   ]
  },
  {
   "cell_type": "code",
   "execution_count": 38,
   "metadata": {},
   "outputs": [
    {
     "name": "stdout",
     "output_type": "stream",
     "text": [
      "The average temperature in Edinburgh is 14.0\n"
     ]
    }
   ],
   "source": [
    "cities = [\"Bristol\", \"London\", \"Manchester\", \"Edinburgh\", \"Belfast\", \"York\"] \n",
    "\n",
    "temperatures = [15.6, 16.5, 13.4, 14.0, 15.2, 14.8]\n",
    "\n",
    "def avg_tmp(city, temp):\n",
    "    print(f\"The average temperature in {city} is {temp}\")\n",
    "\n",
    "city=\"Edinburgh\"\n",
    "avg_tmp(city,temperatures[cities.index(city)])"
   ]
  },
  {
   "cell_type": "code",
   "execution_count": 40,
   "metadata": {},
   "outputs": [
    {
     "name": "stdout",
     "output_type": "stream",
     "text": [
      "The average temperature in Bristol is 15.6\n",
      "The average temperature in London is 16.5\n",
      "The average temperature in Manchester is 13.4\n",
      "The average temperature in Edinburgh is 14.0\n",
      "The average temperature in Belfast is 15.2\n",
      "The average temperature in York is 14.8\n"
     ]
    }
   ],
   "source": [
    "for c in cities:\n",
    "    avg_tmp(c, temperatures[cities.index(c)])"
   ]
  },
  {
   "cell_type": "code",
   "execution_count": 43,
   "metadata": {},
   "outputs": [
    {
     "name": "stdout",
     "output_type": "stream",
     "text": [
      "{'San Francisco': [37.77, -122.43, 'SFO'], 'London': [51.51, -0.08, 'LDN'], 'Paris': [48.86, 2.29, 'PAR'], 'Beijing': [39.92, 116.4, 'BEI'], 'Chennai': [13.04, 80.16, 'MAA']}\n"
     ]
    }
   ],
   "source": [
    "#Note that this is a DOL\n",
    "cities = {\n",
    "    'San Francisco': [37.77, -122.43, 'SFO'],\n",
    "    'London': [51.51, -0.08, 'LDN'],\n",
    "    'Paris': [48.86,2.29, 'PAR'],\n",
    "    'Beijing': [39.92,116.40 ,'BEI'],\n",
    "}\n",
    "\n",
    "cities['Chennai']=[13.04,80.16,'MAA']\n",
    "print(cities)\n",
    "\n"
   ]
  },
  {
   "cell_type": "code",
   "execution_count": 44,
   "metadata": {},
   "outputs": [
    {
     "ename": "KeyError",
     "evalue": "'Berlin'",
     "output_type": "error",
     "traceback": [
      "\u001b[1;31m---------------------------------------------------------------------------\u001b[0m",
      "\u001b[1;31mKeyError\u001b[0m                                  Traceback (most recent call last)",
      "\u001b[1;32m<ipython-input-44-fb6f9eb65ef1>\u001b[0m in \u001b[0;36m<module>\u001b[1;34m\u001b[0m\n\u001b[1;32m----> 1\u001b[1;33m \u001b[0mprint\u001b[0m\u001b[1;33m(\u001b[0m\u001b[0mcities\u001b[0m\u001b[1;33m[\u001b[0m\u001b[1;34m'Berlin'\u001b[0m\u001b[1;33m]\u001b[0m\u001b[1;33m)\u001b[0m\u001b[1;33m\u001b[0m\u001b[1;33m\u001b[0m\u001b[0m\n\u001b[0m",
      "\u001b[1;31mKeyError\u001b[0m: 'Berlin'"
     ]
    }
   ],
   "source": [
    "print(cities['Berlin'])\n",
    "# this is definitely wrong, note the difference between get method."
   ]
  },
  {
   "cell_type": "code",
   "execution_count": 46,
   "metadata": {},
   "outputs": [
    {
     "name": "stdout",
     "output_type": "stream",
     "text": [
      "1\n"
     ]
    }
   ],
   "source": [
    "print(cities.get('Berlin',1))"
   ]
  },
  {
   "cell_type": "code",
   "execution_count": 56,
   "metadata": {},
   "outputs": [
    {
     "name": "stdout",
     "output_type": "stream",
     "text": [
      "San Francisco->SFO\n",
      "London->LDN\n",
      "Paris->PAR\n",
      "Beijing->BEI\n",
      "Chennai->MAA\n"
     ]
    }
   ],
   "source": [
    "for k, v in cities.items():\n",
    "    print(k+\"->\"+v[2])\n",
    "    \n",
    "    \n",
    "#note that print(k+\"->\"+v) is wrong, because v returns a list."
   ]
  },
  {
   "cell_type": "code",
   "execution_count": 57,
   "metadata": {},
   "outputs": [
    {
     "name": "stdout",
     "output_type": "stream",
     "text": [
      "San Francisco->SFO\n",
      "London->LDN\n",
      "Paris->PAR\n",
      "Beijing->BEI\n",
      "Chennai->MAA\n"
     ]
    }
   ],
   "source": [
    "#this is a DOD.\n",
    "cities = {\n",
    "    'San Francisco': {\n",
    "        'lat': 37.77, \n",
    "        'lon': -122.43,\n",
    "        'airport': 'SFO'},\n",
    "    'London': {\n",
    "        'lat': 51.51, \n",
    "        'lon': -0.08, \n",
    "        'airport': 'LDN'},\n",
    "    'Paris': {\n",
    "        'lat': 48.86,\n",
    "        'lon': 2.29, \n",
    "        'airport': 'PAR'},\n",
    "    'Beijing': {\n",
    "        'lat': 39.92,\n",
    "        'lon': 116.40,\n",
    "        'airport': 'BEI'},\n",
    "    'Chennai': { \n",
    "        'lat': 13.08, \n",
    "        'lon': 80.28, \n",
    "        'airport': 'MAA'}\n",
    "}\n",
    "\n",
    "for k, v in cities.items():\n",
    "    print(k+'->'+v['airport'])"
   ]
  },
  {
   "cell_type": "code",
   "execution_count": 67,
   "metadata": {},
   "outputs": [
    {
     "name": "stdout",
     "output_type": "stream",
     "text": [
      "San Francisco is at latitude37.77\n",
      "London is at latitude51.51\n",
      "Paris is at latitude48.86\n",
      "Beijing is at latitude39.92\n",
      "Chennai is at latitude13.08\n"
     ]
    }
   ],
   "source": [
    "# print out the name and latitude of every city.\n",
    "\n",
    "for c in cities.keys(): #change to keys list of dict.\n",
    "    print(str(c)+' is at latitude'+str(cities[c]['lat'])) #!!!!!c it self is keys, we don't need to index it!"
   ]
  },
  {
   "cell_type": "code",
   "execution_count": 74,
   "metadata": {},
   "outputs": [
    {
     "name": "stdout",
     "output_type": "stream",
     "text": [
      "San Franciscois at latitude 37.77\n",
      "Londonis at latitude 51.51\n",
      "Parisis at latitude 48.86\n",
      "Beijingis at latitude 39.92\n",
      "Chennaiis at latitude 13.08\n"
     ]
    }
   ],
   "source": [
    "#same output!\n",
    "#this is a list of dict!\n",
    "cities_alt = [\n",
    "    {'name':     'San Francisco',\n",
    "     'position': [37.77, -122.43],\n",
    "     'airport':  'SFO'},\n",
    "    {'name':     'London',\n",
    "     'position': [51.51, -0.08],\n",
    "     'airport':  'LDN'},\n",
    "    {'name':     'Paris',\n",
    "     'position': [48.86, 2.29],\n",
    "     'airport':  'PAR'},\n",
    "    {'name':     'Beijing',\n",
    "     'position': [39.92, 116.40],\n",
    "     'airport':  'BEI'},\n",
    "    {'name':     'Chennai', \n",
    "     'position': [13.08, 80.28],\n",
    "      'airport': 'MAA'}\n",
    "]\n",
    "\n",
    "for c in cities_alt: #c is item in list,and c is dict,so to speak.\n",
    "    print(c['name']+'is at latitude'+' '+str(c['position'][0]))"
   ]
  },
  {
   "cell_type": "code",
   "execution_count": null,
   "metadata": {},
   "outputs": [],
   "source": [
    "#What are some of the main differences that you can think of between cities and cities_alt as data? There is no right answer.\n",
    "#what differences would you find when accessing one or more 'records'?\n",
    "\n",
    "#Point 1 cities is DOD, another is LOD.\n",
    "#Point 2 iteration vairiable is str and dict,respectively.\n",
    "#Point 3 the way to access data is vie keys and key&position."
   ]
  },
  {
   "cell_type": "code",
   "execution_count": 4,
   "metadata": {},
   "outputs": [
    {
     "name": "stdout",
     "output_type": "stream",
     "text": [
      "datafile variable is of type: 'str'.\n",
      "\n"
     ]
    }
   ],
   "source": [
    "\n",
    "from urllib.request import urlopen\n",
    "# Given the info you were given above, what do you \n",
    "# think the value of 'url' should be? What\n",
    "# type of variable is it? int or string? \n",
    "url = 'https://github.com/jreades/i2p/raw/master/data/2020-08-24-sample-listings-simple.csv'\n",
    "\n",
    "# Read the URL stream into variable called 'response'\n",
    "# using the function that we imported above\n",
    "response = urlopen(url)\n",
    "\n",
    "# Now read from the stream, decoding so that we get actual text\n",
    "datafile = response.read().decode('utf-8')\n",
    "\n",
    "# You might want to explore what `__class__` and `__name__`\n",
    "# offer, but basically the give us a way of finding out what\n",
    "# is 'behind' more complex variables\n",
    "print(\"datafile variable is of type: '\" + datafile.__class__.__name__ + \"'.\\n\")"
   ]
  },
  {
   "cell_type": "code",
   "execution_count": 76,
   "metadata": {},
   "outputs": [
    {
     "name": "stdout",
     "output_type": "stream",
     "text": [
      "16480\n",
      "id,name,host_id,host_name,host_since,latitude,longitude,property_type,room_type,accommodates,bathrooms,bedrooms,beds,price,minimum_nights,maximum_nights,availability_365,number_of_reviews,calculated_host_listings_count\n",
      "25339003,\"An Amazing 4Bedroom Home, Central London, Sleeps12\",191329110,Emily,2018-05-24,51.52865,-0.19998,Entire house,Entire home/apt,12,,4.0,9.0,$226.00,2,1125,23,64,1\n",
      "40259218,Large Double Room - Maida Vale,302720259,Mantas,2019-10-16,51.52594000000001,-0.18909,Private room in apartment,Private room,2,,1.0,1.0,$41.00,1,24,365,4,5\n",
      "20097666,Zone 1 : Spacious single bedroom in \n"
     ]
    }
   ],
   "source": [
    "print(len(datafile))\n",
    "print(datafile[:600]) #this is string"
   ]
  },
  {
   "cell_type": "code",
   "execution_count": 5,
   "metadata": {},
   "outputs": [
    {
     "name": "stdout",
     "output_type": "stream",
     "text": [
      "datafile variable is of type: 'list'.\n",
      "\n"
     ]
    }
   ],
   "source": [
    "url = \"https://github.com/jreades/i2p/raw/master/data/2020-08-24-sample-listings-simple.csv\"\n",
    "\n",
    "response = urlopen(url)\n",
    "datafile = response.read().decode('utf-8').splitlines() #turn into list.\n",
    "\n",
    "print(\"datafile variable is of type: '\" + datafile.__class__.__name__ + \"'.\\n\")"
   ]
  },
  {
   "cell_type": "code",
   "execution_count": 15,
   "metadata": {},
   "outputs": [
    {
     "name": "stdout",
     "output_type": "stream",
     "text": [
      "101\n",
      "['25339003,\"An Amazing 4Bedroom Home, Central London, Sleeps12\",191329110,Emily,2018-05-24,51.52865,-0.19998,Entire house,Entire home/apt,12,,4.0,9.0,$226.00,2,1125,23,64,1']\n",
      "['34560337,Portobello Mews House for 8 guests+free parking,47237234,Marcus,2015-10-23,51.51818,-0.20678,Entire house,Entire home/apt,8,,4.0,4.0,$263.00,2,31,52,13,1', '40373464,\"Modern, Small Double Private Room\",139052118,Leon,2017-07-07,51.46497,-0.17807,Private room in apartment,Private room,1,,1.0,1.0,$38.00,1,1125,0,4,6']\n"
     ]
    }
   ],
   "source": [
    "# Print the number of rows in `datafile`\n",
    "print(len(datafile))\n",
    "# Print the first two rows of `datafile`\n",
    "print(datafile[1:2])\n",
    "\n",
    "# Print the last row of datafile\n",
    "print(datafile[-2:])"
   ]
  },
  {
   "cell_type": "code",
   "execution_count": 9,
   "metadata": {},
   "outputs": [
    {
     "name": "stdout",
     "output_type": "stream",
     "text": [
      "['abc', 'e', '', 'fgh']\n"
     ]
    }
   ],
   "source": [
    "print('abcdeddfgh'.split('d'))"
   ]
  },
  {
   "cell_type": "code",
   "execution_count": 84,
   "metadata": {},
   "outputs": [
    {
     "name": "stdout",
     "output_type": "stream",
     "text": [
      "Help on built-in function split:\n",
      "\n",
      "split(sep=None, maxsplit=-1) method of builtins.str instance\n",
      "    Return a list of the words in the string, using sep as the delimiter string.\n",
      "    \n",
      "    sep\n",
      "      The delimiter according which to split the string.\n",
      "      None (the default value) means split according to any whitespace,\n",
      "      and discard empty strings from the result.\n",
      "    maxsplit\n",
      "      Maximum number of splits to do.\n",
      "      -1 (the default value) means no limit.\n",
      "\n"
     ]
    }
   ],
   "source": [
    "help('abcdefgh'.split)"
   ]
  },
  {
   "cell_type": "code",
   "execution_count": 11,
   "metadata": {},
   "outputs": [
    {
     "name": "stdout",
     "output_type": "stream",
     "text": [
      "['ab', 'cd', 'ef', 'gh']\n"
     ]
    }
   ],
   "source": [
    "print('ab cd ef gh'.split())"
   ]
  },
  {
   "cell_type": "code",
   "execution_count": 16,
   "metadata": {},
   "outputs": [
    {
     "name": "stdout",
     "output_type": "stream",
     "text": [
      "['40373464', '\"Modern', ' Small Double Private Room\"', '139052118', 'Leon', '2017-07-07', '51.46497', '-0.17807', 'Private room in apartment', 'Private room', '1', '', '1.0', '1.0', '$38.00', '1', '1125', '0', '4', '6']\n",
      "\"Modern\n"
     ]
    }
   ],
   "source": [
    "test = datafile[-1].split(',') # split the list, to make it indexable.\n",
    "print(test)\n",
    "print(test[1]) #indexable \n",
    "#output is still list."
   ]
  },
  {
   "cell_type": "code",
   "execution_count": 17,
   "metadata": {},
   "outputs": [
    {
     "name": "stdout",
     "output_type": "stream",
     "text": [
      "urlData has 101 rows and 19 columns.\n",
      "['40373464', 'Modern, Small Double Private Room', '139052118', 'Leon', '2017-07-07', '51.46497', '-0.17807', 'Private room in apartment', 'Private room', '1', '', '1.0', '1.0', '$38.00', '1', '1125', '0', '4', '6']\n"
     ]
    }
   ],
   "source": [
    "from urllib.request import urlopen\n",
    "import csv\n",
    "\n",
    "url = \"https://github.com/jreades/i2p/raw/master/data/2020-08-24-sample-listings-simple.csv\"\n",
    "\n",
    "urlData = [] # Somewhere to store the data\n",
    "\n",
    "response = urlopen(url) # Get the data using the urlopen function\n",
    "csvfile  = csv.reader(response.read().decode('utf-8').splitlines()) # Pass it over to the reader function\n",
    "\n",
    "for row in csvfile:              \n",
    "    urlData.append( row )\n",
    "\n",
    "print(\"urlData has \" + str(len(urlData)) + \" rows and \" + str(len(urlData[0])) + \" columns.\")\n",
    "print(urlData[-1]) # Check it worked!"
   ]
  },
  {
   "cell_type": "code",
   "execution_count": 19,
   "metadata": {},
   "outputs": [
    {
     "name": "stdout",
     "output_type": "stream",
     "text": [
      "The host of '25339003' is 25339003\n",
      "The host of 'An Amazing 4Bedroom Home, Central London, Sleeps12' is An Amazing 4Bedroom Home, Central London, Sleeps12\n",
      "The host of '191329110' is 191329110\n",
      "The host of 'Emily' is Emily\n",
      "The host of '2018-05-24' is 2018-05-24\n",
      "The host of '51.52865' is 51.52865\n",
      "The host of '-0.19998' is -0.19998\n",
      "The host of 'Entire house' is Entire house\n",
      "The host of 'Entire home/apt' is Entire home/apt\n",
      "The host of '12' is 12\n",
      "The host of '' is \n",
      "The host of '4.0' is 4.0\n",
      "The host of '9.0' is 9.0\n",
      "The host of '$226.00' is $226.00\n",
      "The host of '2' is 2\n",
      "The host of '1125' is 1125\n",
      "The host of '23' is 23\n",
      "The host of '64' is 64\n",
      "The host of '1' is 1\n"
     ]
    }
   ],
   "source": [
    "for u in urlData[:15][1]:                             # For each row in the first 15 items in list\n",
    "    print(\"The host of '\" + u + \"' is \" + u) # Print out the name and host"
   ]
  },
  {
   "cell_type": "code",
   "execution_count": 20,
   "metadata": {},
   "outputs": [
    {
     "name": "stdout",
     "output_type": "stream",
     "text": [
      "urlData has 101 rows and 26 columns.\n",
      "['id', 'name', 'description', 'host_id', 'host_name', 'host_since', 'latitude', 'longitude', 'property_type', 'room_type', 'accommodates', 'bathrooms', 'bedrooms', 'beds', 'price', 'minimum_nights', 'maximum_nights', 'availability_30', 'availability_60', 'availability_90', 'availability_365', 'number_of_reviews', 'first_review', 'last_review', 'review_scores_rating', 'calculated_host_listings_count']\n",
      "The host of 'name' is host_name\n"
     ]
    }
   ],
   "source": [
    "from urllib.request import urlopen\n",
    "import csv\n",
    "\n",
    "url = \"https://github.com/jreades/i2p/raw/master/data/2020-08-24-sample-listings.csv\"\n",
    "\n",
    "urlData = [] # Somewhere to store the data\n",
    "\n",
    "response = urlopen(url)\n",
    "csvfile = csv.reader(response.read().decode('utf-8').splitlines())\n",
    "\n",
    "for row in csvfile:              \n",
    "    urlData.append( row )\n",
    "\n",
    "print(\"urlData has \" + str(len(urlData)) + \" rows and \" + str(len(urlData[0])) + \" columns.\")\n",
    "\n",
    "for u in urlData[:1]:                               # For each row in the list\n",
    "    print(u)\n",
    "    print(\"The host of '\" + u[1] + \"' is \" + u[4]) # Print out the name and host"
   ]
  },
  {
   "cell_type": "code",
   "execution_count": 94,
   "metadata": {},
   "outputs": [
    {
     "name": "stdout",
     "output_type": "stream",
     "text": [
      "['London', 'Manchester', 'Birmingham', 'Edinburgh', 'Inverness', 'Lerwick']\n"
     ]
    }
   ],
   "source": [
    "myData = {\n",
    "    'id'         : [0, 1, 2, 3, 4, 5],\n",
    "    'Name'       : ['London', 'Manchester', 'Birmingham','Edinburgh','Inverness','Lerwick'],\n",
    "    'Rank'       : [1, 2, 3, 4, 5, 6],\n",
    "    'Longitude'  : [-0.128, -2.245, -1.903, -3.189, -4.223, -1.145],\n",
    "    'Latitude'   : [51.507, 53.479, 52.480, 55.953, 57.478, 60.155],\n",
    "    'Population' : [9787426, 2705000, 1141816, 901455, 70000, 6958],\n",
    "}\n",
    "\n",
    "print(myData['Name'])"
   ]
  },
  {
   "cell_type": "code",
   "execution_count": 97,
   "metadata": {},
   "outputs": [
    {
     "name": "stdout",
     "output_type": "stream",
     "text": [
      "Manchester's latitude is 53.479\n",
      "The easternmost city is: London\n",
      "The town of Lerwick can be found at 1.145ºW, 60.155ºN\n"
     ]
    }
   ],
   "source": [
    "# Find the latitude of Manchester.\n",
    "lat = myData['Latitude'][ myData['Name'].index('Manchester') ]\n",
    "print(f\"Manchester's latitude is {lat}\") # Notice how 'f-strings' work!\n",
    "\n",
    "# Find the easternmost city\n",
    "city = myData['Name'][ myData['Longitude'].index( max(myData['Longitude']) ) ]\n",
    "print(f\"The easternmost city is: {city}\")\n",
    "\n",
    "# Print the location of Lerwick\n",
    "city = \"Lerwick\"\n",
    "print(f\"The town of {city} can be found at \" + \n",
    "      f\"{abs(myData['Longitude'][myData['Name'].index(city)])}ºW, {myData['Latitude'][myData['Name'].index(city)]}ºN\")\n",
    "\n",
    "# Find the mean population of the cities\n",
    "# using a handy package called numpy\n",
    "import numpy as np\n",
    "mean = np.mean(myData['Population'])\n",
    "print(f\"The mean population is: {mean}\")"
   ]
  },
  {
   "cell_type": "code",
   "execution_count": 96,
   "metadata": {},
   "outputs": [
    {
     "data": {
      "text/plain": [
       "2705000"
      ]
     },
     "execution_count": 96,
     "metadata": {},
     "output_type": "execute_result"
    }
   ],
   "source": [
    "myData['Population'][1]"
   ]
  },
  {
   "cell_type": "code",
   "execution_count": 98,
   "metadata": {},
   "outputs": [
    {
     "data": {
      "text/plain": [
       "1"
      ]
     },
     "execution_count": 98,
     "metadata": {},
     "output_type": "execute_result"
    }
   ],
   "source": [
    "myData['Name'].index('Manchester')"
   ]
  },
  {
   "cell_type": "code",
   "execution_count": 99,
   "metadata": {},
   "outputs": [
    {
     "data": {
      "text/plain": [
       "'London'"
      ]
     },
     "execution_count": 99,
     "metadata": {},
     "output_type": "execute_result"
    }
   ],
   "source": [
    "myData['Name'][0]"
   ]
  },
  {
   "cell_type": "code",
   "execution_count": 100,
   "metadata": {},
   "outputs": [],
   "source": [
    "max_lon = max(myData['Longitude'])\n",
    "myData['Longitude'].index(max_lon)\n",
    "#or\n",
    "myData['Longitude'].index(\n",
    "    max(myData['Longitude'])\n",
    ")"
   ]
  },
  {
   "cell_type": "code",
   "execution_count": null,
   "metadata": {},
   "outputs": [],
   "source": [
    "#1.Finding the maximum value in the Longitude column (we know there must be one, but we don't know what it is!),\n",
    "#2.Finding the index (position) of that maximum value in the Longitude column (now that we know what the value is!),\n",
    "#3.Using that index to read a value out of the Name column."
   ]
  },
  {
   "cell_type": "code",
   "execution_count": 105,
   "metadata": {},
   "outputs": [
    {
     "name": "stdout",
     "output_type": "stream",
     "text": [
      "The town of Lerwick can be found at 1.145ºW, 60.155ºN\n"
     ]
    }
   ],
   "source": [
    "myData = {\n",
    "    'id'         : [0, 1, 2, 3, 4, 5],\n",
    "    'Name'       : ['London', 'Manchester', 'Birmingham','Edinburgh','Inverness','Lerwick'],\n",
    "    'Rank'       : [1, 2, 3, 4, 5, 6],\n",
    "    'Longitude'  : [-0.128, -2.245, -1.903, -3.189, -4.223, -1.145],\n",
    "    'Latitude'   : [51.507, 53.479, 52.480, 55.953, 57.478, 60.155],\n",
    "    'Population' : [9787426, 2705000, 1141816, 901455, 70000, 6958],\n",
    "}\n",
    "\n",
    "# Print the location of Lerwick\n",
    "city = \"Lerwick\"\n",
    "print(f\"The town of {city} can be found at \" + \n",
    "      f\"{abs(myData['Longitude'][myData['Name'].index(city)])}ºW, {myData['Latitude'][myData['Name'].index(city)]}ºN\")\n",
    "\n"
   ]
  },
  {
   "cell_type": "code",
   "execution_count": 103,
   "metadata": {},
   "outputs": [
    {
     "data": {
      "text/plain": [
       "\u001b[1;31mSignature:\u001b[0m \u001b[0mabs\u001b[0m\u001b[1;33m(\u001b[0m\u001b[0mx\u001b[0m\u001b[1;33m,\u001b[0m \u001b[1;33m/\u001b[0m\u001b[1;33m)\u001b[0m\u001b[1;33m\u001b[0m\u001b[1;33m\u001b[0m\u001b[0m\n",
       "\u001b[1;31mDocstring:\u001b[0m Return the absolute value of the argument.\n",
       "\u001b[1;31mType:\u001b[0m      builtin_function_or_method\n"
      ]
     },
     "metadata": {},
     "output_type": "display_data"
    }
   ],
   "source": [
    "?abs"
   ]
  },
  {
   "cell_type": "code",
   "execution_count": 106,
   "metadata": {},
   "outputs": [
    {
     "data": {
      "text/plain": [
       "-1.145"
      ]
     },
     "execution_count": 106,
     "metadata": {},
     "output_type": "execute_result"
    }
   ],
   "source": [
    "myData['Name'].index(city)\n",
    "\n",
    "myData['Longitude'][5]"
   ]
  },
  {
   "cell_type": "code",
   "execution_count": 2,
   "metadata": {},
   "outputs": [],
   "source": [
    "myData = {\n",
    "    'id'         : [0, 1, 2, 3, 4, 5],\n",
    "    'Name'       : ['London', 'Manchester', 'Birmingham','Edinburgh','Inverness','Lerwick'],\n",
    "    'Rank'       : [1, 2, 3, 4, 5, 6],\n",
    "    'Longitude'  : [-0.128, -2.245, -1.903, -3.189, -4.223, -1.145],\n",
    "    'Latitude'   : [51.507, 53.479, 52.480, 55.953, 57.478, 60.155],\n",
    "    'Population' : [9787426, 2705000, 1141816, 901455, 70000, 6958],\n",
    "}\n",
    "pop=myData['Population']\n"
   ]
  },
  {
   "cell_type": "code",
   "execution_count": 4,
   "metadata": {},
   "outputs": [
    {
     "name": "stdout",
     "output_type": "stream",
     "text": [
      "The mean population is: 2435442.5\n"
     ]
    }
   ],
   "source": [
    "import numpy\n",
    "mean = numpy.mean(myData['Population'])\n",
    "print(f\"The mean population is: {mean}\")"
   ]
  },
  {
   "cell_type": "code",
   "execution_count": 122,
   "metadata": {},
   "outputs": [
    {
     "name": "stdout",
     "output_type": "stream",
     "text": [
      "[9787426, 2705000, 1141816, 901455, 70000, 6958]\n",
      "901455\n",
      "The fourth most populous city is: Edinburgh\n"
     ]
    }
   ],
   "source": [
    "myData = {\n",
    "    'id'         : [0, 1, 2, 3, 4, 5],\n",
    "    'Name'       : ['London', 'Manchester', 'Birmingham','Edinburgh','Inverness','Lerwick'],\n",
    "    'Rank'       : [1, 2, 3, 4, 5, 6],\n",
    "    'Longitude'  : [-0.128, -2.245, -1.903, -3.189, -4.223, -1.145],\n",
    "    'Latitude'   : [51.507, 53.479, 52.480, 55.953, 57.478, 60.155],\n",
    "    'Population' : [9787426, 2705000, 1141816, 901455, 70000, 6958],\n",
    "}\n",
    "\n",
    "\n",
    "# Print out the name of the 4th most populous city-region\n",
    "forth=myData['Population']\n",
    "forth.sort(reverse=True)\n",
    "print(forth)\n",
    "forth_index=forth[3]\n",
    "print(forth_index)\n",
    "city=myData['Name'][myData['Population'].index(forth_index)]\n",
    "print(\"The fourth most populous city is: \" + str(city))\n",
    "\n"
   ]
  },
  {
   "cell_type": "code",
   "execution_count": null,
   "metadata": {},
   "outputs": [],
   "source": []
  }
 ],
 "metadata": {
  "kernelspec": {
   "display_name": "CASA2020",
   "language": "python",
   "name": "sds2020"
  },
  "language_info": {
   "codemirror_mode": {
    "name": "ipython",
    "version": 3
   },
   "file_extension": ".py",
   "mimetype": "text/x-python",
   "name": "python",
   "nbconvert_exporter": "python",
   "pygments_lexer": "ipython3",
   "version": "3.7.8"
  }
 },
 "nbformat": 4,
 "nbformat_minor": 4
}
